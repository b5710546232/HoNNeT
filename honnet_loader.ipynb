{
 "cells": [
  {
   "cell_type": "code",
   "execution_count": 2,
   "metadata": {
    "ExecuteTime": {
     "end_time": "2017-02-08T14:25:00.888851",
     "start_time": "2017-02-08T14:24:59.650431"
    },
    "collapsed": false
   },
   "outputs": [],
   "source": [
    "from keras.models import load_model"
   ]
  },
  {
   "cell_type": "code",
   "execution_count": 3,
   "metadata": {
    "ExecuteTime": {
     "end_time": "2017-02-08T14:25:34.162513",
     "start_time": "2017-02-08T14:25:28.595023"
    },
    "collapsed": true
   },
   "outputs": [],
   "source": [
    "model = load_model('honnet_brain.h5')"
   ]
  },
  {
   "cell_type": "code",
   "execution_count": 4,
   "metadata": {
    "ExecuteTime": {
     "end_time": "2017-02-08T14:27:10.741609",
     "start_time": "2017-02-08T14:27:10.646307"
    },
    "collapsed": false
   },
   "outputs": [],
   "source": [
    "yaml = model.to_yaml()\n",
    "with open('honnet_brain_architecture.yaml', 'w') as f:\n",
    "    f.write(yaml)"
   ]
  },
  {
   "cell_type": "code",
   "execution_count": 5,
   "metadata": {
    "ExecuteTime": {
     "end_time": "2017-02-08T14:28:03.954441",
     "start_time": "2017-02-08T14:28:03.678446"
    },
    "collapsed": false
   },
   "outputs": [],
   "source": [
    "json = model.to_json()\n",
    "with open('honnet_brain_architecture.json', 'w') as f:\n",
    "    f.write(json)"
   ]
  },
  {
   "cell_type": "code",
   "execution_count": 6,
   "metadata": {
    "ExecuteTime": {
     "end_time": "2017-02-08T14:37:39.270746",
     "start_time": "2017-02-08T14:37:38.969834"
    },
    "collapsed": true
   },
   "outputs": [],
   "source": [
    "model.save_weights('honnet_brain_weights.hdf5')"
   ]
  }
 ],
 "metadata": {
  "hide_input": false,
  "kernelspec": {
   "display_name": "Python 3",
   "language": "python",
   "name": "python3"
  },
  "language_info": {
   "codemirror_mode": {
    "name": "ipython",
    "version": 3
   },
   "file_extension": ".py",
   "mimetype": "text/x-python",
   "name": "python",
   "nbconvert_exporter": "python",
   "pygments_lexer": "ipython3",
   "version": "3.4.5"
  }
 },
 "nbformat": 4,
 "nbformat_minor": 0
}
