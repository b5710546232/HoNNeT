{
 "cells": [
  {
   "cell_type": "code",
   "execution_count": 1,
   "metadata": {
    "ExecuteTime": {
     "end_time": "2017-02-08T11:56:23.679156",
     "start_time": "2017-02-08T11:56:20.924274"
    },
    "collapsed": false
   },
   "outputs": [],
   "source": [
    "import json\n",
    "import numpy as np\n",
    "import matplotlib.pyplot as plt\n",
    "import pickle\n",
    "from collections import Counter\n",
    "%matplotlib notebook\n",
    "np.set_printoptions(suppress=True, precision=3)"
   ]
  },
  {
   "cell_type": "code",
   "execution_count": 2,
   "metadata": {
    "ExecuteTime": {
     "end_time": "2017-02-08T11:56:24.524867",
     "start_time": "2017-02-08T11:56:23.684838"
    },
    "collapsed": false,
    "scrolled": true
   },
   "outputs": [
    {
     "name": "stdout",
     "output_type": "stream",
     "text": [
      "Total Matches: 100328\n"
     ]
    }
   ],
   "source": [
    "with open('hon_matches.pkl', 'rb') as db:\n",
    "    matches = pickle.load(db)\n",
    "print('Total Matches:', len(matches))"
   ]
  },
  {
   "cell_type": "code",
   "execution_count": 3,
   "metadata": {
    "ExecuteTime": {
     "end_time": "2017-02-08T11:56:24.823670",
     "start_time": "2017-02-08T11:56:24.527288"
    },
    "collapsed": false
   },
   "outputs": [
    {
     "name": "stdout",
     "output_type": "stream",
     "text": [
      "Incomplete Matches Removed: 0\n",
      "Duplicate-Heroes Matches Removed: 581\n",
      "Remaining Matches: 99747\n"
     ]
    }
   ],
   "source": [
    "# try removing matches that do not have total 10 players\n",
    "# or have duplicate heroes\n",
    "remove_incomplete = False\n",
    "removes = []\n",
    "dup_removes = []\n",
    "for k, v in matches.items():\n",
    "    ll = len(v['legion'])\n",
    "    hl = len(v['hellbourne'])\n",
    "    if remove_incomplete and ll + hl < 10:\n",
    "        removes.append(k)\n",
    "    # checking for duplicate heroes match\n",
    "    lls = len(set(v['legion']))\n",
    "    hls = len(set(v['hellbourne']))\n",
    "    if lls < ll or hls < hl:\n",
    "        dup_removes.append(k)\n",
    "removes = set(removes)\n",
    "for key in removes:\n",
    "    del matches[key]\n",
    "print('Incomplete Matches Removed:', len(removes))\n",
    "dup_removes = set(dup_removes) & set(matches.keys())\n",
    "for key in dup_removes:\n",
    "    del matches[key]\n",
    "print('Duplicate-Heroes Matches Removed:', len(dup_removes))\n",
    "print('Remaining Matches:', len(matches))"
   ]
  },
  {
   "cell_type": "code",
   "execution_count": 4,
   "metadata": {
    "ExecuteTime": {
     "end_time": "2017-02-08T11:56:24.841358",
     "start_time": "2017-02-08T11:56:24.827841"
    },
    "collapsed": false
   },
   "outputs": [
    {
     "name": "stdout",
     "output_type": "stream",
     "text": [
      "(147849216, {'winner': 1, 'hellbourne': [117, 43, 243, 167, 41], 'legion': [226, 195, 15, 9, 94], 'secs': 1955, 'concedes': 0})\n",
      "(147849218, {'winner': 0, 'hellbourne': [25, 244, 10, 246, 16], 'legion': [102, 125, 168, 30, 209], 'secs': 2077, 'concedes': 5})\n",
      "(147849220, {'winner': 1, 'hellbourne': [209, 116, 24, 202, 228], 'legion': [117, 166, 226, 6, 230], 'secs': 2074, 'concedes': 5})\n",
      "(147849226, {'winner': 0, 'hellbourne': [202, 117, 10, 161, 163], 'legion': [12, 4, 102, 243, 207], 'secs': 2017, 'concedes': 5})\n",
      "(147849227, {'winner': 1, 'hellbourne': [94, 248, 31, 43, 240], 'legion': [108, 110, 161, 239, 233], 'secs': 3268, 'concedes': 0})\n"
     ]
    }
   ],
   "source": [
    "X = []\n",
    "for i, item in enumerate(matches.items()):\n",
    "    if i == 5:\n",
    "        break\n",
    "    print(item)\n",
    "    X.append(item[1])"
   ]
  },
  {
   "cell_type": "code",
   "execution_count": 5,
   "metadata": {
    "ExecuteTime": {
     "end_time": "2017-02-08T11:56:24.888236",
     "start_time": "2017-02-08T11:56:24.844626"
    },
    "collapsed": false
   },
   "outputs": [],
   "source": [
    "AVAIL_HEROES = 260 # actually 134 but extra for future\n",
    "def vectorize_matches(matches, include_Y=True):\n",
    "    legion_vec = np.zeros([len(matches), AVAIL_HEROES])\n",
    "    hellbourne_vec = np.zeros([len(matches), AVAIL_HEROES])\n",
    "    if include_Y:\n",
    "        winner = np.zeros([len(matches), 1])\n",
    "        concede = np.zeros([len(matches), 1])\n",
    "        secs = np.zeros([len(matches), 1])\n",
    "    for m, match in enumerate(matches):\n",
    "        for hero_id in match['legion']:\n",
    "            legion_vec[m, hero_id] = 1.\n",
    "        for hero_id in match['hellbourne']:\n",
    "            hellbourne_vec[m, hero_id] = 1.\n",
    "        if include_Y:\n",
    "            if match['winner']:\n",
    "                winner[m, 0] = 1.\n",
    "            if match['concedes']:\n",
    "                concede[m, 0] = 1.\n",
    "            secs[m, 0] = match['secs']\n",
    "    x = np.concatenate([legion_vec, hellbourne_vec], axis=1)\n",
    "    if include_Y:\n",
    "        y = np.concatenate([winner, concede, secs], axis=1)\n",
    "    return (x, y) if include_Y else x"
   ]
  },
  {
   "cell_type": "markdown",
   "metadata": {},
   "source": [
    "# Serious time"
   ]
  },
  {
   "cell_type": "code",
   "execution_count": 6,
   "metadata": {
    "ExecuteTime": {
     "end_time": "2017-02-08T11:56:25.847080",
     "start_time": "2017-02-08T11:56:24.892792"
    },
    "collapsed": false,
    "run_control": {
     "marked": false
    }
   },
   "outputs": [
    {
     "data": {
      "text/plain": [
       "((99747, 520), (99747, 3))"
      ]
     },
     "execution_count": 6,
     "metadata": {},
     "output_type": "execute_result"
    }
   ],
   "source": [
    "X, Y = vectorize_matches(matches.values())\n",
    "X.shape, Y.shape"
   ]
  },
  {
   "cell_type": "code",
   "execution_count": 7,
   "metadata": {
    "ExecuteTime": {
     "end_time": "2017-02-08T11:56:25.976219",
     "start_time": "2017-02-08T11:56:25.850489"
    },
    "collapsed": false
   },
   "outputs": [
    {
     "data": {
      "text/plain": [
       "{'attacktype': 'ranged',\n",
       " 'description': 'A powerful wizard once owned a pet turtle.  Each day, the turtle watched and mimicked as the wizard practiced his spells.  One day, the turtle fell into a magical pool and was transformed into more than a mere turtle. Now, centuries after his master died, Bubbles lives on, fighting the forces of evil.',\n",
       " 'disp_name': 'Bubbles',\n",
       " 'hero_id': '125',\n",
       " 'primaryattribute': 'Intelligence',\n",
       " 'team': 'Legion'}"
      ]
     },
     "execution_count": 7,
     "metadata": {},
     "output_type": "execute_result"
    }
   ],
   "source": [
    "with open('heroes_name.pkl', 'rb') as f:\n",
    "    heroes_dict = pickle.load(f)\n",
    "heroes_dict[125]"
   ]
  },
  {
   "cell_type": "code",
   "execution_count": 8,
   "metadata": {
    "ExecuteTime": {
     "end_time": "2017-02-08T11:56:25.990029",
     "start_time": "2017-02-08T11:56:25.981392"
    },
    "collapsed": false
   },
   "outputs": [
    {
     "data": {
      "text/plain": [
       "'Bubbles'"
      ]
     },
     "execution_count": 8,
     "metadata": {},
     "output_type": "execute_result"
    }
   ],
   "source": [
    "def hero_id_to_name(hero_id):\n",
    "    return heroes_dict[hero_id]['disp_name']\n",
    "hero_id_to_name(125)"
   ]
  },
  {
   "cell_type": "code",
   "execution_count": 9,
   "metadata": {
    "ExecuteTime": {
     "end_time": "2017-02-08T11:56:26.010808",
     "start_time": "2017-02-08T11:56:25.992858"
    },
    "collapsed": false,
    "run_control": {
     "marked": false
    }
   },
   "outputs": [
    {
     "data": {
      "text/plain": [
       "(125, 'Bubbles')"
      ]
     },
     "execution_count": 9,
     "metadata": {},
     "output_type": "execute_result"
    }
   ],
   "source": [
    "def hero_name_to_id(name):\n",
    "    if not name:\n",
    "        return None\n",
    "    name = name.lower()\n",
    "    for id, hero in heroes_dict.items():\n",
    "        if name in hero['disp_name'].lower():\n",
    "            return id, hero['disp_name']\n",
    "    return None\n",
    "hero_name_to_id('BUB')"
   ]
  },
  {
   "cell_type": "code",
   "execution_count": 90,
   "metadata": {
    "ExecuteTime": {
     "end_time": "2017-02-08T13:36:18.145699",
     "start_time": "2017-02-08T13:36:18.128576"
    },
    "collapsed": false
   },
   "outputs": [],
   "source": [
    "from operator import itemgetter\n",
    "# returns a hero that maximize win probability in a given team\n",
    "# if 'optimal' is false, it will return a hero that minimize win probability\n",
    "def optimal_hero_choice(model, match, hellbourne_side=False, as_list=True, as_name=True, optimal=True):\n",
    "    legion = match['legion']\n",
    "    hellbourne = match['hellbourne']\n",
    "    team_ids = hellbourne if hellbourne_side else legion\n",
    "    hypothesis = []\n",
    "    for id in set(heroes_dict.keys()) - set(legion + hellbourne): # all choosable hero ids\n",
    "        team_ids.append(id)\n",
    "        x = vectorize_matches([match], include_Y=False)\n",
    "        team_ids.pop()\n",
    "        p = model.predict(x, verbose=0)[0]\n",
    "        hero = id\n",
    "        if as_name:\n",
    "            hero = hero_id_to_name(hero)\n",
    "        hypothesis.append((hero, p[0, 1 if hellbourne_side else 0]))\n",
    "    extrema = max if optimal else min\n",
    "    return sorted(hypothesis, key=itemgetter(1), reverse=optimal) if as_list else extrema(hypothesis, key=itemgetter(1))"
   ]
  },
  {
   "cell_type": "code",
   "execution_count": 11,
   "metadata": {
    "ExecuteTime": {
     "end_time": "2017-02-08T11:56:26.103429",
     "start_time": "2017-02-08T11:56:26.088590"
    },
    "collapsed": true
   },
   "outputs": [],
   "source": [
    "def humanize(xrow):\n",
    "    legion, hellbourne = [], []\n",
    "    for i, el in enumerate(xrow):\n",
    "        if el:\n",
    "            if i < AVAIL_HEROES:\n",
    "                name = hero_id_to_name(i)\n",
    "                legion.append(name)\n",
    "            else:\n",
    "                name = hero_id_to_name(i - AVAIL_HEROES)\n",
    "                hellbourne.append(name)\n",
    "    return {'legion': legion, 'hellbourne': hellbourne}"
   ]
  },
  {
   "cell_type": "markdown",
   "metadata": {},
   "source": [
    "# Data Exploration"
   ]
  },
  {
   "cell_type": "code",
   "execution_count": 12,
   "metadata": {
    "ExecuteTime": {
     "end_time": "2017-02-08T11:56:26.153033",
     "start_time": "2017-02-08T11:56:26.106725"
    },
    "collapsed": false
   },
   "outputs": [
    {
     "data": {
      "text/plain": [
       "(Counter({0.0: 46524, 1.0: 53223}), array([    0.534,     0.645,  1946.186]))"
      ]
     },
     "execution_count": 12,
     "metadata": {},
     "output_type": "execute_result"
    }
   ],
   "source": [
    "# which team won more? Hellbourne!\n",
    "Counter(Y[:,0]), Y.mean(axis=0)"
   ]
  },
  {
   "cell_type": "code",
   "execution_count": 13,
   "metadata": {
    "ExecuteTime": {
     "end_time": "2017-02-08T11:56:26.363911",
     "start_time": "2017-02-08T11:56:26.157829"
    },
    "collapsed": false
   },
   "outputs": [
    {
     "data": {
      "text/plain": [
       "941122"
      ]
     },
     "execution_count": 13,
     "metadata": {},
     "output_type": "execute_result"
    }
   ],
   "source": [
    "played = [] # played heroes\n",
    "for i, item in enumerate(matches.items()):\n",
    "    v = item[1]\n",
    "    if 0 in v['legion']:\n",
    "        print(item)\n",
    "    if 0 in v['hellbourne']:\n",
    "        print(item)\n",
    "    played.extend(v['legion'])\n",
    "    played.extend(v['hellbourne'])\n",
    "len(played)"
   ]
  },
  {
   "cell_type": "code",
   "execution_count": 14,
   "metadata": {
    "ExecuteTime": {
     "end_time": "2017-02-08T11:56:26.505152",
     "start_time": "2017-02-08T11:56:26.367206"
    },
    "collapsed": false
   },
   "outputs": [
    {
     "data": {
      "text/plain": [
       "[(6, 27917),\n",
       " (38, 24532),\n",
       " (43, 24474),\n",
       " (164, 22592),\n",
       " (242, 21712),\n",
       " (117, 18341),\n",
       " (10, 18050),\n",
       " (166, 17556),\n",
       " (163, 15827),\n",
       " (236, 15822),\n",
       " (226, 15198),\n",
       " (41, 13356),\n",
       " (249, 13206),\n",
       " (24, 12761),\n",
       " (94, 12755),\n",
       " (15, 12741),\n",
       " (104, 12601),\n",
       " (27, 12503),\n",
       " (44, 11818),\n",
       " (106, 11722),\n",
       " (31, 11547),\n",
       " (103, 11055),\n",
       " (125, 10157),\n",
       " (192, 10144),\n",
       " (3, 9893),\n",
       " (8, 9824),\n",
       " (230, 9802),\n",
       " (21, 9739),\n",
       " (209, 9520),\n",
       " (194, 9241),\n",
       " (91, 8817),\n",
       " (220, 8687),\n",
       " (126, 8628),\n",
       " (4, 8612),\n",
       " (39, 8456),\n",
       " (161, 8414),\n",
       " (216, 8341),\n",
       " (92, 8325),\n",
       " (195, 8251),\n",
       " (228, 8172),\n",
       " (244, 8113),\n",
       " (167, 8068),\n",
       " (12, 7842),\n",
       " (120, 7821),\n",
       " (205, 7818),\n",
       " (250, 7594),\n",
       " (108, 7409),\n",
       " (210, 7367),\n",
       " (110, 7320),\n",
       " (222, 7225),\n",
       " (114, 7160),\n",
       " (168, 7004),\n",
       " (13, 6979),\n",
       " (14, 6802),\n",
       " (219, 6647),\n",
       " (5, 6614),\n",
       " (202, 6574),\n",
       " (34, 6572),\n",
       " (128, 6292),\n",
       " (18, 6196),\n",
       " (20, 6087),\n",
       " (122, 6023),\n",
       " (7, 5925),\n",
       " (16, 5852),\n",
       " (26, 5841),\n",
       " (42, 5832),\n",
       " (2, 5816),\n",
       " (89, 5808),\n",
       " (197, 5559),\n",
       " (121, 5474),\n",
       " (214, 5467),\n",
       " (40, 5402),\n",
       " (196, 5260),\n",
       " (105, 5145),\n",
       " (116, 5122),\n",
       " (239, 4943),\n",
       " (247, 4882),\n",
       " (207, 4838),\n",
       " (22, 4693),\n",
       " (17, 4654),\n",
       " (240, 4652),\n",
       " (188, 4646),\n",
       " (169, 4599),\n",
       " (109, 4554),\n",
       " (9, 4545),\n",
       " (227, 4509),\n",
       " (37, 4458),\n",
       " (218, 4385),\n",
       " (203, 4290),\n",
       " (127, 4276),\n",
       " (35, 4208),\n",
       " (96, 4192),\n",
       " (223, 4034),\n",
       " (93, 4032),\n",
       " (185, 3933),\n",
       " (102, 3864),\n",
       " (123, 3840),\n",
       " (211, 3747),\n",
       " (95, 3550),\n",
       " (204, 3526),\n",
       " (115, 3500),\n",
       " (212, 3470),\n",
       " (241, 3459),\n",
       " (25, 3432),\n",
       " (124, 3362),\n",
       " (233, 3359),\n",
       " (187, 3343),\n",
       " (213, 3136),\n",
       " (206, 3134),\n",
       " (162, 3046),\n",
       " (90, 2960),\n",
       " (201, 2847),\n",
       " (217, 2751),\n",
       " (234, 2687),\n",
       " (224, 2670),\n",
       " (165, 2668),\n",
       " (160, 2572),\n",
       " (215, 2413),\n",
       " (208, 2383),\n",
       " (245, 2337),\n",
       " (29, 2300),\n",
       " (30, 2259),\n",
       " (246, 2244),\n",
       " (229, 2233),\n",
       " (232, 2190),\n",
       " (225, 2024),\n",
       " (235, 1942),\n",
       " (248, 1608),\n",
       " (243, 1486),\n",
       " (221, 1343),\n",
       " (237, 1338),\n",
       " (36, 1326),\n",
       " (238, 1229),\n",
       " (170, 1082)]"
      ]
     },
     "execution_count": 14,
     "metadata": {},
     "output_type": "execute_result"
    }
   ],
   "source": [
    "Counter(played).most_common()"
   ]
  },
  {
   "cell_type": "code",
   "execution_count": 15,
   "metadata": {
    "ExecuteTime": {
     "end_time": "2017-02-08T11:56:26.676244",
     "start_time": "2017-02-08T11:56:26.508805"
    },
    "collapsed": false
   },
   "outputs": [
    {
     "data": {
      "text/plain": [
       "[('Devourer', 27917),\n",
       " ('Legionnaire', 24532),\n",
       " ('Demented Shaman', 24474),\n",
       " ('Bombardier', 22592),\n",
       " ('Deadlift', 21712),\n",
       " ('Rampage', 18341),\n",
       " ('Nymphora', 18050),\n",
       " ('Myrmidon', 17556),\n",
       " ('Flint Beastwood', 15827),\n",
       " ('Klanx', 15822),\n",
       " ('Solstice', 15198),\n",
       " ('Nomad', 13356),\n",
       " ('Adrenaline', 13206),\n",
       " ('Soulstealer', 12761),\n",
       " ('Pyromancer', 12755),\n",
       " ('Swiftblade', 12741),\n",
       " ('Wretched Hag', 12601),\n",
       " ('Voodoo Jester', 12503),\n",
       " ('Scout', 11818),\n",
       " ('Magmus', 11722),\n",
       " ('Zephyr', 11547),\n",
       " ('Valkyrie', 11055),\n",
       " ('Bubbles', 10157),\n",
       " (' \\t\\tAmun-Ra', 10144),\n",
       " ('Behemoth', 9893),\n",
       " ('Slither', 9824),\n",
       " ('Bushwack', 9802),\n",
       " ('Pollywog Priest', 9739),\n",
       " ('Lord Salforis', 9520),\n",
       " ('Parasite', 9241),\n",
       " ('Puppet Master', 8817),\n",
       " ('Riftwalker', 8687),\n",
       " ('Fayde', 8628),\n",
       " ('Chronos', 8612),\n",
       " ('Predator', 8456),\n",
       " ('The Gladiator', 8414),\n",
       " ('Gunblade', 8341),\n",
       " ('Arachna', 8325),\n",
       " ('Emerald Warden', 8251),\n",
       " ('Grinex', 8172),\n",
       " ('Skrap', 8113),\n",
       " ('Dampeer', 8068),\n",
       " ('Glacius', 7842),\n",
       " ('Witch Slayer', 7821),\n",
       " ('Midas', 7818),\n",
       " ('Apex', 7594),\n",
       " ('Plague Rider', 7409),\n",
       " ('Shadowblade', 7367),\n",
       " ('Pandamonium', 7320),\n",
       " ('Ravenor', 7225),\n",
       " ('Corrupted Disciple', 7160),\n",
       " ('Empath', 7004),\n",
       " ('Hammerstorm', 6979),\n",
       " ('Night Hound', 6802),\n",
       " ('Ellonia', 6647),\n",
       " ('Defiler', 6614),\n",
       " ('Master Of Arms', 6574),\n",
       " ('Pharaoh', 6572),\n",
       " ('Gauntlet', 6292),\n",
       " ('Thunderbringer', 6196),\n",
       " ('Moon Queen', 6087),\n",
       " ('Engineer', 6023),\n",
       " ('Blacksmith', 5925),\n",
       " ('Blood Hunter', 5852),\n",
       " ('The Dark Lady', 5841),\n",
       " ('The Madman', 5832),\n",
       " ('Armadon', 5816),\n",
       " ('Jeraziah', 5808),\n",
       " ('Monkey King', 5559),\n",
       " ('Forsaken Archer', 5474),\n",
       " ('Draconis', 5467),\n",
       " ('Accursed', 5402),\n",
       " ('Revenant', 5260),\n",
       " ('Succubus', 5145),\n",
       " ('Sand Wraith', 5122),\n",
       " ('Tarot', 4943),\n",
       " ('Shellshock', 4882),\n",
       " ('Monarch', 4838),\n",
       " ('Pebbles', 4693),\n",
       " ('Kraken', 4654),\n",
       " ('Kane', 4652),\n",
       " ('Martyr', 4646),\n",
       " ('Aluna', 4599),\n",
       " ('Soul Reaper', 4554),\n",
       " ('Electrician', 4545),\n",
       " ('Pearl', 4509),\n",
       " ('Magebane', 4458),\n",
       " ('Artillery', 4385),\n",
       " ('Rhapsody', 4290),\n",
       " ('Balphagore', 4276),\n",
       " ('Tempest', 4208),\n",
       " ('Maliken', 4192),\n",
       " ('Prophet', 4034),\n",
       " ('Hellbringer', 4032),\n",
       " ('Silhouette', 3933),\n",
       " ('Andromeda', 3864),\n",
       " ('Deadwood', 3840),\n",
       " ('Artesia', 3747),\n",
       " ('Pestilence', 3550),\n",
       " ('Geomancer', 3526),\n",
       " ('Vindicator', 3500),\n",
       " ('Gravekeeper', 3470),\n",
       " ('Calamity', 3459),\n",
       " ('Keeper of the Forest', 3432),\n",
       " ('The Chipper', 3362),\n",
       " ('Prisoner 945', 3359),\n",
       " ('Flux', 3343),\n",
       " ('Berzerker', 3136),\n",
       " ('Cthulhuphant', 3134),\n",
       " ('Doctor Repulsor', 3046),\n",
       " ('Torturer', 2960),\n",
       " ('Drunken Master', 2847),\n",
       " ('Blitz', 2751),\n",
       " ('Sir Benzington', 2687),\n",
       " ('Rally', 2670),\n",
       " ('Moraxus', 2668),\n",
       " ('Tundra', 2572),\n",
       " ('Kinesis', 2413),\n",
       " ('Gemini', 2383),\n",
       " ('Nitro', 2337),\n",
       " ('War Beast', 2300),\n",
       " ('Wildsoul', 2259),\n",
       " ('King Klout', 2244),\n",
       " ('Lodestone', 2233),\n",
       " ('Salomon', 2190),\n",
       " ('Oogie', 2024),\n",
       " ('Circe', 1942),\n",
       " ('Ichor', 1608),\n",
       " ('Parallax', 1486),\n",
       " ('Bramble', 1343),\n",
       " ('Riptide', 1338),\n",
       " ('Ophelia', 1326),\n",
       " ('Moira', 1229),\n",
       " ('Tremble', 1082)]"
      ]
     },
     "execution_count": 15,
     "metadata": {},
     "output_type": "execute_result"
    }
   ],
   "source": [
    "[(hero_id_to_name(id), freq) for (id, freq) in Counter(played).most_common() if id != 0]"
   ]
  },
  {
   "cell_type": "code",
   "execution_count": 16,
   "metadata": {
    "ExecuteTime": {
     "end_time": "2017-02-08T11:56:26.823122",
     "start_time": "2017-02-08T11:56:26.680238"
    },
    "collapsed": false
   },
   "outputs": [
    {
     "data": {
      "text/plain": [
       "Counter({1.0: 1358,\n",
       "         2.0: 2972,\n",
       "         3.0: 256,\n",
       "         4.0: 875,\n",
       "         5.0: 97,\n",
       "         6.0: 385,\n",
       "         7.0: 231,\n",
       "         8.0: 1243,\n",
       "         9.0: 8104,\n",
       "         10.0: 84226})"
      ]
     },
     "execution_count": 16,
     "metadata": {},
     "output_type": "execute_result"
    }
   ],
   "source": [
    "# how many players are there in a game?\n",
    "players = Counter(X.sum(axis=1))\n",
    "players"
   ]
  },
  {
   "cell_type": "code",
   "execution_count": 17,
   "metadata": {
    "ExecuteTime": {
     "end_time": "2017-02-08T11:56:27.267552",
     "start_time": "2017-02-08T11:56:26.826912"
    },
    "collapsed": false
   },
   "outputs": [
    {
     "data": {
      "application/javascript": [
       "/* Put everything inside the global mpl namespace */\n",
       "window.mpl = {};\n",
       "\n",
       "mpl.get_websocket_type = function() {\n",
       "    if (typeof(WebSocket) !== 'undefined') {\n",
       "        return WebSocket;\n",
       "    } else if (typeof(MozWebSocket) !== 'undefined') {\n",
       "        return MozWebSocket;\n",
       "    } else {\n",
       "        alert('Your browser does not have WebSocket support.' +\n",
       "              'Please try Chrome, Safari or Firefox ≥ 6. ' +\n",
       "              'Firefox 4 and 5 are also supported but you ' +\n",
       "              'have to enable WebSockets in about:config.');\n",
       "    };\n",
       "}\n",
       "\n",
       "mpl.figure = function(figure_id, websocket, ondownload, parent_element) {\n",
       "    this.id = figure_id;\n",
       "\n",
       "    this.ws = websocket;\n",
       "\n",
       "    this.supports_binary = (this.ws.binaryType != undefined);\n",
       "\n",
       "    if (!this.supports_binary) {\n",
       "        var warnings = document.getElementById(\"mpl-warnings\");\n",
       "        if (warnings) {\n",
       "            warnings.style.display = 'block';\n",
       "            warnings.textContent = (\n",
       "                \"This browser does not support binary websocket messages. \" +\n",
       "                    \"Performance may be slow.\");\n",
       "        }\n",
       "    }\n",
       "\n",
       "    this.imageObj = new Image();\n",
       "\n",
       "    this.context = undefined;\n",
       "    this.message = undefined;\n",
       "    this.canvas = undefined;\n",
       "    this.rubberband_canvas = undefined;\n",
       "    this.rubberband_context = undefined;\n",
       "    this.format_dropdown = undefined;\n",
       "\n",
       "    this.image_mode = 'full';\n",
       "\n",
       "    this.root = $('<div/>');\n",
       "    this._root_extra_style(this.root)\n",
       "    this.root.attr('style', 'display: inline-block');\n",
       "\n",
       "    $(parent_element).append(this.root);\n",
       "\n",
       "    this._init_header(this);\n",
       "    this._init_canvas(this);\n",
       "    this._init_toolbar(this);\n",
       "\n",
       "    var fig = this;\n",
       "\n",
       "    this.waiting = false;\n",
       "\n",
       "    this.ws.onopen =  function () {\n",
       "            fig.send_message(\"supports_binary\", {value: fig.supports_binary});\n",
       "            fig.send_message(\"send_image_mode\", {});\n",
       "            fig.send_message(\"refresh\", {});\n",
       "        }\n",
       "\n",
       "    this.imageObj.onload = function() {\n",
       "            if (fig.image_mode == 'full') {\n",
       "                // Full images could contain transparency (where diff images\n",
       "                // almost always do), so we need to clear the canvas so that\n",
       "                // there is no ghosting.\n",
       "                fig.context.clearRect(0, 0, fig.canvas.width, fig.canvas.height);\n",
       "            }\n",
       "            fig.context.drawImage(fig.imageObj, 0, 0);\n",
       "        };\n",
       "\n",
       "    this.imageObj.onunload = function() {\n",
       "        this.ws.close();\n",
       "    }\n",
       "\n",
       "    this.ws.onmessage = this._make_on_message_function(this);\n",
       "\n",
       "    this.ondownload = ondownload;\n",
       "}\n",
       "\n",
       "mpl.figure.prototype._init_header = function() {\n",
       "    var titlebar = $(\n",
       "        '<div class=\"ui-dialog-titlebar ui-widget-header ui-corner-all ' +\n",
       "        'ui-helper-clearfix\"/>');\n",
       "    var titletext = $(\n",
       "        '<div class=\"ui-dialog-title\" style=\"width: 100%; ' +\n",
       "        'text-align: center; padding: 3px;\"/>');\n",
       "    titlebar.append(titletext)\n",
       "    this.root.append(titlebar);\n",
       "    this.header = titletext[0];\n",
       "}\n",
       "\n",
       "\n",
       "\n",
       "mpl.figure.prototype._canvas_extra_style = function(canvas_div) {\n",
       "\n",
       "}\n",
       "\n",
       "\n",
       "mpl.figure.prototype._root_extra_style = function(canvas_div) {\n",
       "\n",
       "}\n",
       "\n",
       "mpl.figure.prototype._init_canvas = function() {\n",
       "    var fig = this;\n",
       "\n",
       "    var canvas_div = $('<div/>');\n",
       "\n",
       "    canvas_div.attr('style', 'position: relative; clear: both; outline: 0');\n",
       "\n",
       "    function canvas_keyboard_event(event) {\n",
       "        return fig.key_event(event, event['data']);\n",
       "    }\n",
       "\n",
       "    canvas_div.keydown('key_press', canvas_keyboard_event);\n",
       "    canvas_div.keyup('key_release', canvas_keyboard_event);\n",
       "    this.canvas_div = canvas_div\n",
       "    this._canvas_extra_style(canvas_div)\n",
       "    this.root.append(canvas_div);\n",
       "\n",
       "    var canvas = $('<canvas/>');\n",
       "    canvas.addClass('mpl-canvas');\n",
       "    canvas.attr('style', \"left: 0; top: 0; z-index: 0; outline: 0\")\n",
       "\n",
       "    this.canvas = canvas[0];\n",
       "    this.context = canvas[0].getContext(\"2d\");\n",
       "\n",
       "    var rubberband = $('<canvas/>');\n",
       "    rubberband.attr('style', \"position: absolute; left: 0; top: 0; z-index: 1;\")\n",
       "\n",
       "    var pass_mouse_events = true;\n",
       "\n",
       "    canvas_div.resizable({\n",
       "        start: function(event, ui) {\n",
       "            pass_mouse_events = false;\n",
       "        },\n",
       "        resize: function(event, ui) {\n",
       "            fig.request_resize(ui.size.width, ui.size.height);\n",
       "        },\n",
       "        stop: function(event, ui) {\n",
       "            pass_mouse_events = true;\n",
       "            fig.request_resize(ui.size.width, ui.size.height);\n",
       "        },\n",
       "    });\n",
       "\n",
       "    function mouse_event_fn(event) {\n",
       "        if (pass_mouse_events)\n",
       "            return fig.mouse_event(event, event['data']);\n",
       "    }\n",
       "\n",
       "    rubberband.mousedown('button_press', mouse_event_fn);\n",
       "    rubberband.mouseup('button_release', mouse_event_fn);\n",
       "    // Throttle sequential mouse events to 1 every 20ms.\n",
       "    rubberband.mousemove('motion_notify', mouse_event_fn);\n",
       "\n",
       "    rubberband.mouseenter('figure_enter', mouse_event_fn);\n",
       "    rubberband.mouseleave('figure_leave', mouse_event_fn);\n",
       "\n",
       "    canvas_div.on(\"wheel\", function (event) {\n",
       "        event = event.originalEvent;\n",
       "        event['data'] = 'scroll'\n",
       "        if (event.deltaY < 0) {\n",
       "            event.step = 1;\n",
       "        } else {\n",
       "            event.step = -1;\n",
       "        }\n",
       "        mouse_event_fn(event);\n",
       "    });\n",
       "\n",
       "    canvas_div.append(canvas);\n",
       "    canvas_div.append(rubberband);\n",
       "\n",
       "    this.rubberband = rubberband;\n",
       "    this.rubberband_canvas = rubberband[0];\n",
       "    this.rubberband_context = rubberband[0].getContext(\"2d\");\n",
       "    this.rubberband_context.strokeStyle = \"#000000\";\n",
       "\n",
       "    this._resize_canvas = function(width, height) {\n",
       "        // Keep the size of the canvas, canvas container, and rubber band\n",
       "        // canvas in synch.\n",
       "        canvas_div.css('width', width)\n",
       "        canvas_div.css('height', height)\n",
       "\n",
       "        canvas.attr('width', width);\n",
       "        canvas.attr('height', height);\n",
       "\n",
       "        rubberband.attr('width', width);\n",
       "        rubberband.attr('height', height);\n",
       "    }\n",
       "\n",
       "    // Set the figure to an initial 600x600px, this will subsequently be updated\n",
       "    // upon first draw.\n",
       "    this._resize_canvas(600, 600);\n",
       "\n",
       "    // Disable right mouse context menu.\n",
       "    $(this.rubberband_canvas).bind(\"contextmenu\",function(e){\n",
       "        return false;\n",
       "    });\n",
       "\n",
       "    function set_focus () {\n",
       "        canvas.focus();\n",
       "        canvas_div.focus();\n",
       "    }\n",
       "\n",
       "    window.setTimeout(set_focus, 100);\n",
       "}\n",
       "\n",
       "mpl.figure.prototype._init_toolbar = function() {\n",
       "    var fig = this;\n",
       "\n",
       "    var nav_element = $('<div/>')\n",
       "    nav_element.attr('style', 'width: 100%');\n",
       "    this.root.append(nav_element);\n",
       "\n",
       "    // Define a callback function for later on.\n",
       "    function toolbar_event(event) {\n",
       "        return fig.toolbar_button_onclick(event['data']);\n",
       "    }\n",
       "    function toolbar_mouse_event(event) {\n",
       "        return fig.toolbar_button_onmouseover(event['data']);\n",
       "    }\n",
       "\n",
       "    for(var toolbar_ind in mpl.toolbar_items) {\n",
       "        var name = mpl.toolbar_items[toolbar_ind][0];\n",
       "        var tooltip = mpl.toolbar_items[toolbar_ind][1];\n",
       "        var image = mpl.toolbar_items[toolbar_ind][2];\n",
       "        var method_name = mpl.toolbar_items[toolbar_ind][3];\n",
       "\n",
       "        if (!name) {\n",
       "            // put a spacer in here.\n",
       "            continue;\n",
       "        }\n",
       "        var button = $('<button/>');\n",
       "        button.addClass('ui-button ui-widget ui-state-default ui-corner-all ' +\n",
       "                        'ui-button-icon-only');\n",
       "        button.attr('role', 'button');\n",
       "        button.attr('aria-disabled', 'false');\n",
       "        button.click(method_name, toolbar_event);\n",
       "        button.mouseover(tooltip, toolbar_mouse_event);\n",
       "\n",
       "        var icon_img = $('<span/>');\n",
       "        icon_img.addClass('ui-button-icon-primary ui-icon');\n",
       "        icon_img.addClass(image);\n",
       "        icon_img.addClass('ui-corner-all');\n",
       "\n",
       "        var tooltip_span = $('<span/>');\n",
       "        tooltip_span.addClass('ui-button-text');\n",
       "        tooltip_span.html(tooltip);\n",
       "\n",
       "        button.append(icon_img);\n",
       "        button.append(tooltip_span);\n",
       "\n",
       "        nav_element.append(button);\n",
       "    }\n",
       "\n",
       "    var fmt_picker_span = $('<span/>');\n",
       "\n",
       "    var fmt_picker = $('<select/>');\n",
       "    fmt_picker.addClass('mpl-toolbar-option ui-widget ui-widget-content');\n",
       "    fmt_picker_span.append(fmt_picker);\n",
       "    nav_element.append(fmt_picker_span);\n",
       "    this.format_dropdown = fmt_picker[0];\n",
       "\n",
       "    for (var ind in mpl.extensions) {\n",
       "        var fmt = mpl.extensions[ind];\n",
       "        var option = $(\n",
       "            '<option/>', {selected: fmt === mpl.default_extension}).html(fmt);\n",
       "        fmt_picker.append(option)\n",
       "    }\n",
       "\n",
       "    // Add hover states to the ui-buttons\n",
       "    $( \".ui-button\" ).hover(\n",
       "        function() { $(this).addClass(\"ui-state-hover\");},\n",
       "        function() { $(this).removeClass(\"ui-state-hover\");}\n",
       "    );\n",
       "\n",
       "    var status_bar = $('<span class=\"mpl-message\"/>');\n",
       "    nav_element.append(status_bar);\n",
       "    this.message = status_bar[0];\n",
       "}\n",
       "\n",
       "mpl.figure.prototype.request_resize = function(x_pixels, y_pixels) {\n",
       "    // Request matplotlib to resize the figure. Matplotlib will then trigger a resize in the client,\n",
       "    // which will in turn request a refresh of the image.\n",
       "    this.send_message('resize', {'width': x_pixels, 'height': y_pixels});\n",
       "}\n",
       "\n",
       "mpl.figure.prototype.send_message = function(type, properties) {\n",
       "    properties['type'] = type;\n",
       "    properties['figure_id'] = this.id;\n",
       "    this.ws.send(JSON.stringify(properties));\n",
       "}\n",
       "\n",
       "mpl.figure.prototype.send_draw_message = function() {\n",
       "    if (!this.waiting) {\n",
       "        this.waiting = true;\n",
       "        this.ws.send(JSON.stringify({type: \"draw\", figure_id: this.id}));\n",
       "    }\n",
       "}\n",
       "\n",
       "\n",
       "mpl.figure.prototype.handle_save = function(fig, msg) {\n",
       "    var format_dropdown = fig.format_dropdown;\n",
       "    var format = format_dropdown.options[format_dropdown.selectedIndex].value;\n",
       "    fig.ondownload(fig, format);\n",
       "}\n",
       "\n",
       "\n",
       "mpl.figure.prototype.handle_resize = function(fig, msg) {\n",
       "    var size = msg['size'];\n",
       "    if (size[0] != fig.canvas.width || size[1] != fig.canvas.height) {\n",
       "        fig._resize_canvas(size[0], size[1]);\n",
       "        fig.send_message(\"refresh\", {});\n",
       "    };\n",
       "}\n",
       "\n",
       "mpl.figure.prototype.handle_rubberband = function(fig, msg) {\n",
       "    var x0 = msg['x0'];\n",
       "    var y0 = fig.canvas.height - msg['y0'];\n",
       "    var x1 = msg['x1'];\n",
       "    var y1 = fig.canvas.height - msg['y1'];\n",
       "    x0 = Math.floor(x0) + 0.5;\n",
       "    y0 = Math.floor(y0) + 0.5;\n",
       "    x1 = Math.floor(x1) + 0.5;\n",
       "    y1 = Math.floor(y1) + 0.5;\n",
       "    var min_x = Math.min(x0, x1);\n",
       "    var min_y = Math.min(y0, y1);\n",
       "    var width = Math.abs(x1 - x0);\n",
       "    var height = Math.abs(y1 - y0);\n",
       "\n",
       "    fig.rubberband_context.clearRect(\n",
       "        0, 0, fig.canvas.width, fig.canvas.height);\n",
       "\n",
       "    fig.rubberband_context.strokeRect(min_x, min_y, width, height);\n",
       "}\n",
       "\n",
       "mpl.figure.prototype.handle_figure_label = function(fig, msg) {\n",
       "    // Updates the figure title.\n",
       "    fig.header.textContent = msg['label'];\n",
       "}\n",
       "\n",
       "mpl.figure.prototype.handle_cursor = function(fig, msg) {\n",
       "    var cursor = msg['cursor'];\n",
       "    switch(cursor)\n",
       "    {\n",
       "    case 0:\n",
       "        cursor = 'pointer';\n",
       "        break;\n",
       "    case 1:\n",
       "        cursor = 'default';\n",
       "        break;\n",
       "    case 2:\n",
       "        cursor = 'crosshair';\n",
       "        break;\n",
       "    case 3:\n",
       "        cursor = 'move';\n",
       "        break;\n",
       "    }\n",
       "    fig.rubberband_canvas.style.cursor = cursor;\n",
       "}\n",
       "\n",
       "mpl.figure.prototype.handle_message = function(fig, msg) {\n",
       "    fig.message.textContent = msg['message'];\n",
       "}\n",
       "\n",
       "mpl.figure.prototype.handle_draw = function(fig, msg) {\n",
       "    // Request the server to send over a new figure.\n",
       "    fig.send_draw_message();\n",
       "}\n",
       "\n",
       "mpl.figure.prototype.handle_image_mode = function(fig, msg) {\n",
       "    fig.image_mode = msg['mode'];\n",
       "}\n",
       "\n",
       "mpl.figure.prototype.updated_canvas_event = function() {\n",
       "    // Called whenever the canvas gets updated.\n",
       "    this.send_message(\"ack\", {});\n",
       "}\n",
       "\n",
       "// A function to construct a web socket function for onmessage handling.\n",
       "// Called in the figure constructor.\n",
       "mpl.figure.prototype._make_on_message_function = function(fig) {\n",
       "    return function socket_on_message(evt) {\n",
       "        if (evt.data instanceof Blob) {\n",
       "            /* FIXME: We get \"Resource interpreted as Image but\n",
       "             * transferred with MIME type text/plain:\" errors on\n",
       "             * Chrome.  But how to set the MIME type?  It doesn't seem\n",
       "             * to be part of the websocket stream */\n",
       "            evt.data.type = \"image/png\";\n",
       "\n",
       "            /* Free the memory for the previous frames */\n",
       "            if (fig.imageObj.src) {\n",
       "                (window.URL || window.webkitURL).revokeObjectURL(\n",
       "                    fig.imageObj.src);\n",
       "            }\n",
       "\n",
       "            fig.imageObj.src = (window.URL || window.webkitURL).createObjectURL(\n",
       "                evt.data);\n",
       "            fig.updated_canvas_event();\n",
       "            fig.waiting = false;\n",
       "            return;\n",
       "        }\n",
       "        else if (typeof evt.data === 'string' && evt.data.slice(0, 21) == \"data:image/png;base64\") {\n",
       "            fig.imageObj.src = evt.data;\n",
       "            fig.updated_canvas_event();\n",
       "            fig.waiting = false;\n",
       "            return;\n",
       "        }\n",
       "\n",
       "        var msg = JSON.parse(evt.data);\n",
       "        var msg_type = msg['type'];\n",
       "\n",
       "        // Call the  \"handle_{type}\" callback, which takes\n",
       "        // the figure and JSON message as its only arguments.\n",
       "        try {\n",
       "            var callback = fig[\"handle_\" + msg_type];\n",
       "        } catch (e) {\n",
       "            console.log(\"No handler for the '\" + msg_type + \"' message type: \", msg);\n",
       "            return;\n",
       "        }\n",
       "\n",
       "        if (callback) {\n",
       "            try {\n",
       "                // console.log(\"Handling '\" + msg_type + \"' message: \", msg);\n",
       "                callback(fig, msg);\n",
       "            } catch (e) {\n",
       "                console.log(\"Exception inside the 'handler_\" + msg_type + \"' callback:\", e, e.stack, msg);\n",
       "            }\n",
       "        }\n",
       "    };\n",
       "}\n",
       "\n",
       "// from http://stackoverflow.com/questions/1114465/getting-mouse-location-in-canvas\n",
       "mpl.findpos = function(e) {\n",
       "    //this section is from http://www.quirksmode.org/js/events_properties.html\n",
       "    var targ;\n",
       "    if (!e)\n",
       "        e = window.event;\n",
       "    if (e.target)\n",
       "        targ = e.target;\n",
       "    else if (e.srcElement)\n",
       "        targ = e.srcElement;\n",
       "    if (targ.nodeType == 3) // defeat Safari bug\n",
       "        targ = targ.parentNode;\n",
       "\n",
       "    // jQuery normalizes the pageX and pageY\n",
       "    // pageX,Y are the mouse positions relative to the document\n",
       "    // offset() returns the position of the element relative to the document\n",
       "    var x = e.pageX - $(targ).offset().left;\n",
       "    var y = e.pageY - $(targ).offset().top;\n",
       "\n",
       "    return {\"x\": x, \"y\": y};\n",
       "};\n",
       "\n",
       "/*\n",
       " * return a copy of an object with only non-object keys\n",
       " * we need this to avoid circular references\n",
       " * http://stackoverflow.com/a/24161582/3208463\n",
       " */\n",
       "function simpleKeys (original) {\n",
       "  return Object.keys(original).reduce(function (obj, key) {\n",
       "    if (typeof original[key] !== 'object')\n",
       "        obj[key] = original[key]\n",
       "    return obj;\n",
       "  }, {});\n",
       "}\n",
       "\n",
       "mpl.figure.prototype.mouse_event = function(event, name) {\n",
       "    var canvas_pos = mpl.findpos(event)\n",
       "\n",
       "    if (name === 'button_press')\n",
       "    {\n",
       "        this.canvas.focus();\n",
       "        this.canvas_div.focus();\n",
       "    }\n",
       "\n",
       "    var x = canvas_pos.x;\n",
       "    var y = canvas_pos.y;\n",
       "\n",
       "    this.send_message(name, {x: x, y: y, button: event.button,\n",
       "                             step: event.step,\n",
       "                             guiEvent: simpleKeys(event)});\n",
       "\n",
       "    /* This prevents the web browser from automatically changing to\n",
       "     * the text insertion cursor when the button is pressed.  We want\n",
       "     * to control all of the cursor setting manually through the\n",
       "     * 'cursor' event from matplotlib */\n",
       "    event.preventDefault();\n",
       "    return false;\n",
       "}\n",
       "\n",
       "mpl.figure.prototype._key_event_extra = function(event, name) {\n",
       "    // Handle any extra behaviour associated with a key event\n",
       "}\n",
       "\n",
       "mpl.figure.prototype.key_event = function(event, name) {\n",
       "\n",
       "    // Prevent repeat events\n",
       "    if (name == 'key_press')\n",
       "    {\n",
       "        if (event.which === this._key)\n",
       "            return;\n",
       "        else\n",
       "            this._key = event.which;\n",
       "    }\n",
       "    if (name == 'key_release')\n",
       "        this._key = null;\n",
       "\n",
       "    var value = '';\n",
       "    if (event.ctrlKey && event.which != 17)\n",
       "        value += \"ctrl+\";\n",
       "    if (event.altKey && event.which != 18)\n",
       "        value += \"alt+\";\n",
       "    if (event.shiftKey && event.which != 16)\n",
       "        value += \"shift+\";\n",
       "\n",
       "    value += 'k';\n",
       "    value += event.which.toString();\n",
       "\n",
       "    this._key_event_extra(event, name);\n",
       "\n",
       "    this.send_message(name, {key: value,\n",
       "                             guiEvent: simpleKeys(event)});\n",
       "    return false;\n",
       "}\n",
       "\n",
       "mpl.figure.prototype.toolbar_button_onclick = function(name) {\n",
       "    if (name == 'download') {\n",
       "        this.handle_save(this, null);\n",
       "    } else {\n",
       "        this.send_message(\"toolbar_button\", {name: name});\n",
       "    }\n",
       "};\n",
       "\n",
       "mpl.figure.prototype.toolbar_button_onmouseover = function(tooltip) {\n",
       "    this.message.textContent = tooltip;\n",
       "};\n",
       "mpl.toolbar_items = [[\"Home\", \"Reset original view\", \"fa fa-home icon-home\", \"home\"], [\"Back\", \"Back to  previous view\", \"fa fa-arrow-left icon-arrow-left\", \"back\"], [\"Forward\", \"Forward to next view\", \"fa fa-arrow-right icon-arrow-right\", \"forward\"], [\"\", \"\", \"\", \"\"], [\"Pan\", \"Pan axes with left mouse, zoom with right\", \"fa fa-arrows icon-move\", \"pan\"], [\"Zoom\", \"Zoom to rectangle\", \"fa fa-square-o icon-check-empty\", \"zoom\"], [\"\", \"\", \"\", \"\"], [\"Download\", \"Download plot\", \"fa fa-floppy-o icon-save\", \"download\"]];\n",
       "\n",
       "mpl.extensions = [\"eps\", \"jpeg\", \"pdf\", \"png\", \"ps\", \"raw\", \"svg\", \"tif\"];\n",
       "\n",
       "mpl.default_extension = \"png\";var comm_websocket_adapter = function(comm) {\n",
       "    // Create a \"websocket\"-like object which calls the given IPython comm\n",
       "    // object with the appropriate methods. Currently this is a non binary\n",
       "    // socket, so there is still some room for performance tuning.\n",
       "    var ws = {};\n",
       "\n",
       "    ws.close = function() {\n",
       "        comm.close()\n",
       "    };\n",
       "    ws.send = function(m) {\n",
       "        //console.log('sending', m);\n",
       "        comm.send(m);\n",
       "    };\n",
       "    // Register the callback with on_msg.\n",
       "    comm.on_msg(function(msg) {\n",
       "        //console.log('receiving', msg['content']['data'], msg);\n",
       "        // Pass the mpl event to the overriden (by mpl) onmessage function.\n",
       "        ws.onmessage(msg['content']['data'])\n",
       "    });\n",
       "    return ws;\n",
       "}\n",
       "\n",
       "mpl.mpl_figure_comm = function(comm, msg) {\n",
       "    // This is the function which gets called when the mpl process\n",
       "    // starts-up an IPython Comm through the \"matplotlib\" channel.\n",
       "\n",
       "    var id = msg.content.data.id;\n",
       "    // Get hold of the div created by the display call when the Comm\n",
       "    // socket was opened in Python.\n",
       "    var element = $(\"#\" + id);\n",
       "    var ws_proxy = comm_websocket_adapter(comm)\n",
       "\n",
       "    function ondownload(figure, format) {\n",
       "        window.open(figure.imageObj.src);\n",
       "    }\n",
       "\n",
       "    var fig = new mpl.figure(id, ws_proxy,\n",
       "                           ondownload,\n",
       "                           element.get(0));\n",
       "\n",
       "    // Call onopen now - mpl needs it, as it is assuming we've passed it a real\n",
       "    // web socket which is closed, not our websocket->open comm proxy.\n",
       "    ws_proxy.onopen();\n",
       "\n",
       "    fig.parent_element = element.get(0);\n",
       "    fig.cell_info = mpl.find_output_cell(\"<div id='\" + id + \"'></div>\");\n",
       "    if (!fig.cell_info) {\n",
       "        console.error(\"Failed to find cell for figure\", id, fig);\n",
       "        return;\n",
       "    }\n",
       "\n",
       "    var output_index = fig.cell_info[2]\n",
       "    var cell = fig.cell_info[0];\n",
       "\n",
       "};\n",
       "\n",
       "mpl.figure.prototype.handle_close = function(fig, msg) {\n",
       "    fig.root.unbind('remove')\n",
       "\n",
       "    // Update the output cell to use the data from the current canvas.\n",
       "    fig.push_to_output();\n",
       "    var dataURL = fig.canvas.toDataURL();\n",
       "    // Re-enable the keyboard manager in IPython - without this line, in FF,\n",
       "    // the notebook keyboard shortcuts fail.\n",
       "    IPython.keyboard_manager.enable()\n",
       "    $(fig.parent_element).html('<img src=\"' + dataURL + '\">');\n",
       "    fig.close_ws(fig, msg);\n",
       "}\n",
       "\n",
       "mpl.figure.prototype.close_ws = function(fig, msg){\n",
       "    fig.send_message('closing', msg);\n",
       "    // fig.ws.close()\n",
       "}\n",
       "\n",
       "mpl.figure.prototype.push_to_output = function(remove_interactive) {\n",
       "    // Turn the data on the canvas into data in the output cell.\n",
       "    var dataURL = this.canvas.toDataURL();\n",
       "    this.cell_info[1]['text/html'] = '<img src=\"' + dataURL + '\">';\n",
       "}\n",
       "\n",
       "mpl.figure.prototype.updated_canvas_event = function() {\n",
       "    // Tell IPython that the notebook contents must change.\n",
       "    IPython.notebook.set_dirty(true);\n",
       "    this.send_message(\"ack\", {});\n",
       "    var fig = this;\n",
       "    // Wait a second, then push the new image to the DOM so\n",
       "    // that it is saved nicely (might be nice to debounce this).\n",
       "    setTimeout(function () { fig.push_to_output() }, 1000);\n",
       "}\n",
       "\n",
       "mpl.figure.prototype._init_toolbar = function() {\n",
       "    var fig = this;\n",
       "\n",
       "    var nav_element = $('<div/>')\n",
       "    nav_element.attr('style', 'width: 100%');\n",
       "    this.root.append(nav_element);\n",
       "\n",
       "    // Define a callback function for later on.\n",
       "    function toolbar_event(event) {\n",
       "        return fig.toolbar_button_onclick(event['data']);\n",
       "    }\n",
       "    function toolbar_mouse_event(event) {\n",
       "        return fig.toolbar_button_onmouseover(event['data']);\n",
       "    }\n",
       "\n",
       "    for(var toolbar_ind in mpl.toolbar_items){\n",
       "        var name = mpl.toolbar_items[toolbar_ind][0];\n",
       "        var tooltip = mpl.toolbar_items[toolbar_ind][1];\n",
       "        var image = mpl.toolbar_items[toolbar_ind][2];\n",
       "        var method_name = mpl.toolbar_items[toolbar_ind][3];\n",
       "\n",
       "        if (!name) { continue; };\n",
       "\n",
       "        var button = $('<button class=\"btn btn-default\" href=\"#\" title=\"' + name + '\"><i class=\"fa ' + image + ' fa-lg\"></i></button>');\n",
       "        button.click(method_name, toolbar_event);\n",
       "        button.mouseover(tooltip, toolbar_mouse_event);\n",
       "        nav_element.append(button);\n",
       "    }\n",
       "\n",
       "    // Add the status bar.\n",
       "    var status_bar = $('<span class=\"mpl-message\" style=\"text-align:right; float: right;\"/>');\n",
       "    nav_element.append(status_bar);\n",
       "    this.message = status_bar[0];\n",
       "\n",
       "    // Add the close button to the window.\n",
       "    var buttongrp = $('<div class=\"btn-group inline pull-right\"></div>');\n",
       "    var button = $('<button class=\"btn btn-mini btn-primary\" href=\"#\" title=\"Stop Interaction\"><i class=\"fa fa-power-off icon-remove icon-large\"></i></button>');\n",
       "    button.click(function (evt) { fig.handle_close(fig, {}); } );\n",
       "    button.mouseover('Stop Interaction', toolbar_mouse_event);\n",
       "    buttongrp.append(button);\n",
       "    var titlebar = this.root.find($('.ui-dialog-titlebar'));\n",
       "    titlebar.prepend(buttongrp);\n",
       "}\n",
       "\n",
       "mpl.figure.prototype._root_extra_style = function(el){\n",
       "    var fig = this\n",
       "    el.on(\"remove\", function(){\n",
       "\tfig.close_ws(fig, {});\n",
       "    });\n",
       "}\n",
       "\n",
       "mpl.figure.prototype._canvas_extra_style = function(el){\n",
       "    // this is important to make the div 'focusable\n",
       "    el.attr('tabindex', 0)\n",
       "    // reach out to IPython and tell the keyboard manager to turn it's self\n",
       "    // off when our div gets focus\n",
       "\n",
       "    // location in version 3\n",
       "    if (IPython.notebook.keyboard_manager) {\n",
       "        IPython.notebook.keyboard_manager.register_events(el);\n",
       "    }\n",
       "    else {\n",
       "        // location in version 2\n",
       "        IPython.keyboard_manager.register_events(el);\n",
       "    }\n",
       "\n",
       "}\n",
       "\n",
       "mpl.figure.prototype._key_event_extra = function(event, name) {\n",
       "    var manager = IPython.notebook.keyboard_manager;\n",
       "    if (!manager)\n",
       "        manager = IPython.keyboard_manager;\n",
       "\n",
       "    // Check for shift+enter\n",
       "    if (event.shiftKey && event.which == 13) {\n",
       "        this.canvas_div.blur();\n",
       "        event.shiftKey = false;\n",
       "        // Send a \"J\" for go to next cell\n",
       "        event.which = 74;\n",
       "        event.keyCode = 74;\n",
       "        manager.command_mode();\n",
       "        manager.handle_keydown(event);\n",
       "    }\n",
       "}\n",
       "\n",
       "mpl.figure.prototype.handle_save = function(fig, msg) {\n",
       "    fig.ondownload(fig, null);\n",
       "}\n",
       "\n",
       "\n",
       "mpl.find_output_cell = function(html_output) {\n",
       "    // Return the cell and output element which can be found *uniquely* in the notebook.\n",
       "    // Note - this is a bit hacky, but it is done because the \"notebook_saving.Notebook\"\n",
       "    // IPython event is triggered only after the cells have been serialised, which for\n",
       "    // our purposes (turning an active figure into a static one), is too late.\n",
       "    var cells = IPython.notebook.get_cells();\n",
       "    var ncells = cells.length;\n",
       "    for (var i=0; i<ncells; i++) {\n",
       "        var cell = cells[i];\n",
       "        if (cell.cell_type === 'code'){\n",
       "            for (var j=0; j<cell.output_area.outputs.length; j++) {\n",
       "                var data = cell.output_area.outputs[j];\n",
       "                if (data.data) {\n",
       "                    // IPython >= 3 moved mimebundle to data attribute of output\n",
       "                    data = data.data;\n",
       "                }\n",
       "                if (data['text/html'] == html_output) {\n",
       "                    return [cell, data, j];\n",
       "                }\n",
       "            }\n",
       "        }\n",
       "    }\n",
       "}\n",
       "\n",
       "// Register the function which deals with the matplotlib target/channel.\n",
       "// The kernel may be null if the page has been refreshed.\n",
       "if (IPython.notebook.kernel != null) {\n",
       "    IPython.notebook.kernel.comm_manager.register_target('matplotlib', mpl.mpl_figure_comm);\n",
       "}\n"
      ],
      "text/plain": [
       "<IPython.core.display.Javascript object>"
      ]
     },
     "metadata": {},
     "output_type": "display_data"
    },
    {
     "data": {
      "text/html": [
       "<img src=\"data:image/png;base64,iVBORw0KGgoAAAANSUhEUgAAAoAAAAHgCAYAAAA10dzkAAAgAElEQVR4Xu3dB5hcZb3H8S8tgGkIIlICCCZ0FBFpiheRu1JFEBBpKghyl1BCkyCEEEJPFENABOEi0lFAzIVVFKVJCU0EBKSXCEjZFIQgyX3+mTM6LJtt78zsOTPf8zwLKfO+c97P+U/2t+857zkL4KaAAgoooIACCijQVAILNNVoHawCCiiggAIKKKAABkCLQAEFFFBAAQUUaDIBA2CTHXCHq4ACCiiggAIKGACtAQUUUEABBRRQoMkEDIBNdsAdrgIKKKCAAgooYAC0BhRQQAEFFFBAgSYTMAA22QF3uAoooIACCiiggAHQGlBAAQUUUEABBZpMwADYZAfc4SqggAIKKKCAAgZAa0ABBRRQQAEFFGgyAQNgkx1wh6uAAgoooIACChgArQEFFFBAAQUUUKDJBAyATXbAHa4CCiiggAIKKGAAtAYUUEABBRRQQIEmEzAANtkBd7gKKKCAAgoooIAB0BpQQAEFFFBAAQWaTMAA2GQH3OEqoIACCiiggAIGQGtAAQUUUEABBRRoMgEDYJMdcIergAIKKKCAAgoYAK0BBRRQQAEFFFCgyQQMgE12wB2uAgoooIACCihgALQGFFBAAQUUUECBJhMwADbZAXe4CiiggAIKKKCAAdAaUEABBRRQQAEFmkzAANhkB9zhKqCAAgoooIACBkBrQAEFFFBAAQUUaDIBA2CTHXCHq4ACCiiggAIKGACtAQUUUEABBRRQoMkEDIBNdsAdrgIKKKCAAgooYAC0BhRQQAEFFFBAgSYTMAA22QF3uAoooIACCiiggAHQGlBAAQUUUEABBZpMwADYZAfc4SqggAIKKKCAAgZAa0ABBRRQQAEFFGgyAQNgkx1wh6uAAgoooIACChgArQEFFFBAAQUUUKDJBAyATXbAHa4CCiiggAIKKGAAtAYUUEABBRRQQIEmEzAANtkBd7gKKKCAAgoooIAB0BpQQAEFFFBAAQWaTMAA2GQH3OEqoIACCiiggAIGQGtAAQUUUEABBRRoMoG8BcAlgFOBbYAhwJ+Ag4DHsuOyLjAJWB94EzgPGNvhmMXv983a3wu0Ag9XvKYafTRZmThcBRRQQAEFFGgkgbwFwOuAAcA3gFlZGNwJWA1YCHgcuAA4ARgB3ACcAZyZHZQjgAOBrYAngTHAXtlr3wIGVaGPRjr+jkUBBRRQQAEFmlAgTwHwQ8B0YBPg7uxYLArMzELcIsBpwHLAnOzvY3ZwJDA8+/1TwETgrOz3ERpfAkYBlwB7Z6EypY8mLBOHrIACCiiggAKNJJC3ADgjC4B3ZciLA/FnP8hmANfIZvfKx2Bj4DZgKLBgdlo4/qzcPl7XBjwEHJ6Fw9Q+Gun4OxYFFFBAAQUUaEKBPAXAcliL/++ZnQI+BTgA+GkWAAcCu1Ucp9Wz6/uGZQHwOSACXvmawXjp5dnM4n7A+UBqH5VlEn4xmxgh1U0BBRRQQAEFiiMwODtLOLc4u1y9Pc1bAPwIcDrwpSzQxSKPnYFrgZgNTJ29i9PDqX1U6i8PvFC9w2FPCiiggAIKKFBHgRWAF+v4frl5q7wFwI4wSwPPAtsCcZA6XgN4cLboo6trAKcBhwCXZtcS9rWPQ7PrCCv3MVYqtz///PMMGRK/bKxt9OjRnHTSSY01qGw0jq2Yh7WRj1sckUYen2PzM5cngenTpzNsWJw8nHcJWaw/aLotbwEwVva+AbwKfAI4G3gb2D5bwRundmMV8Phs4ccUYELFKuC4zi9WAcdtZGJByHHAHtkq4vIq4NQ+PhAA29vbGzIAjho1iokTY9K08TbHVsxj2sjHLY5II4/PsfmZy5NABMChQyP7GQDzcly+ld3i5cPAa9msXdzKZXa2g2tnoTDuA9gOnAOM67DzxwP7A3Fuf2on9wGsRh/lt5w3A2gAzEv59Hw//GbUc6s8vbKRj5sBME+V1rt9aeS6bNSxGQAhbzOAvfvU9f+rGzoAtrW10dLS0v/KNdgDx1YD1Dp02cjHLfgaeXyOrQ4fkBq8RaMeNwOgATD149LQATAVx/YKKKCAAgrkUcAAaABMrUsDYKqg7RVQQAEFFKizgAHQAJhacgbAVEHbK6CAAgooUGcBA6ABMLXkDICpgrZXQAEFFFCgzgIGQANgaskZAFMFba+AAgoooECdBQyABsDUkjMApgraXgEFFFBAgToLGAANgKklZwBMFbS9AgoooIACdRYwABoAU0vOAJgqaHsFFFBAAQXqLGAANACmlpwBMFXQ9goooIACCtRZwABoAEwtOQNgqqDtFVBAAQUUqLOAAdAAmFpyBsBUQdsroIACCihQZwEDoAEwteQMgKmCtldAAQUUUKDOAgZAA2BqyRkAUwVtr4ACCiigQJ0FDIAGwNSSMwCmCtpeAQUUUECBOgsYAA2AqSVnAEwVtL0CCiiggAJ1FjAAGgBTS84AmCpoewUUUEABBeosYAA0AKaWnAEwVdD2CiiggAIK1FnAAGgATC05A2CqoO0VUEABBRSos4AB0ACYWnIGwFRB2yuggAIKKFBngfb26SyxxNB41/jP9Dq/fS7eboFc7EVxd8IAWNxj554roIACCjSpwKhR0/nBDwyATXr4qzJsA2BVGO1EAQUUUECB+glsueV0brrJAFg/8cZ7JwNg4x1TR6SAAgoo0OACK6wwnRdfNAA2+GGu6fAMgDXltXMFFFBAAQWqKzB9OgwdGpf9GQCrK9tcvRkAm+t4O1oFFFBAgYIL3HknbL/9dF591QBY8EPZr7tvAOxXft9cAQUUUECB3gmcfz5cfPF0brnFANg7OV9dKWAAtB4UUEABBRQokMChh8I//zmdc881ABbosOVuVw2AuTsk7pACCiiggALzF9hyS9h22+kccogB0Drpu4ABsO92tlRAAQUUUKDuAsstBxddNJ3//m8DYN3xG+gNDYANdDAdigIKKKBAYwu8/jostRQ8++x0VlrJANjYR7u2ozMA1tbX3hVQQAEFFKiawK23wm67wSOPTGfoUANg1WCbsCMDYBMedIesgAIKKFBMgXPOgeuugyuvNAD6LOC0GjYApvnZWgEFFFBAgboJHHggLLoojBljAMxbAPwwMBH4MrAo8ChwNHBLVh3rApOA9YE3gfOAsR0qJ36/LxDh7F6gFXi44jXV6KPcnQGwbh9b30gBBRRQQIE0gc03h732gp12MgDmLQD+HBgGfBV4AzgUOB5YEfgX8DhwAXACMAK4ATgDODMriSOAA4GtgCeBMcBe2WvfAgZVoY/K6jMApn0Wba2AAgoooEDdBJZeGqZMgdVXNwDmLQA+BPwkm+WLghgIzAA2BNYATgOWA+Zk1XIQMBIYnv3+qWwG8azs9wsBLwGjgEuAvYFTE/swANbto+obKaCAAgooUB2BV16BZZaBGTNgzhwDYN4CYJy+/SKwM/BaFty+DcRp25OzEBize+VtY+C27InOC2anhePP7qp4TRsQwfLwLBxGkEzpwwBYnc+ivSiggAIKKFA3gd//HvbZB55+GqZPNwDmLQAuBlwDtGSnfF/PTgf/CTg/mxHcraJaVs+u74vTxhEAn8tC4mMVr7kcmA7sV6U+DIB1+7j6RgoooIACClRHYNIk+M1v4PrrDYAhmrcAeGt2jV6cso1Tv9sCPwM2A77pDGB1PgT2ooACCiigQLMJ7L8/fPjDcMopBsC8BcClgFeB9YAHKwozVvLGLN7LnVwDeHC26KOrawCnAYcAl2YLQjpeR9jTPmJBSlxH+IEZwNbWVgYMGDDvz1taWuZ9uSmggAIKKKBAfgTWWquNYcPaWHNNmD17NpMnT46di7tBx1nCptvyNgMYizhuAg4DZgLbAFcBWwP3AHFqN1YBj88WfkwBJlSsAo7r/GIVcLSLvo4D9gBWA8qrgFP7+EAAbG9vZ8iQWBDspoACCiiggAJ5E5g7F5ZcEuI6wPXWcwYwjk/eAuCa2SxfrPpdBHge+CHw06yY1gbOzu4D2A6cA4zrUGhx25j9gcHA1E7uA1iNPspv6W1g8vYpd38UUEABBRToIPDii7DiijBzJiy+uAEwjwGwaEVrACzaEXN/FVBAAQWaTiAWf8RTQB6PuwnHOV9XAeduBrBoRWkALNoRc38VUEABBZpOYOJEuPVWuCbuM2IAnGeQt1PARStKA2DRjpj7q4ACCijQdAJx/7/lloNx2UVjzgAaAFM/BAbAVEHbK6CAAgooUGOBDTeEQw+Fr3/dGcAytTOAaUVnAEzzs7UCCiiggAI1FZgzB4YOhTvugHXWMQAaAKtTbgbA6jjaiwIKKKCAAjUReOYZGD4cZs2C7Ja9LgLxGsDkWjMAJhPagQIKKKCAArUTmDIFjjgCHnnkP+/hNYBeA5hacQbAVEHbK6CAAgooUEOB006DqVPhyisNgJXMXgOYVnQGwDQ/WyuggAIKKFBTgb32glVXhTFjDIAGwOqVmgGwepb2pIACCiigQNUF1l8fRo+GnXYyABoAq1deBsDqWdqTAgoooIACVRV47z0YNAjuvx9WX90AaACsXnkZAKtnaU8KKKCAAgpUVeBvf4O11iqtAF54YQOgAbB65WUArJ6lPSmggAIKKFBVgWuvLV379+CD7+/WVcCuAk4tNANgqqDtFVBAAQUUqJHA+PHw8MNw6aUGwI7ErgJOKzoDYJqfrRVQQAEFFKiZwG67lZ7+EYtAKjdnAJ0BTC06A2CqoO0VUEABBRSokcC668K4cfCVrxgAnQGsbpEZAKvraW8KKKCAAgpUReDdd0srgOMJIHEfQGcA32/gKeC0MjMApvnZWgEFFFBAgZoIPPooxD0AZ86EBRc0ADoDWN0yMwBW19PeFFBAAQUUqIrA1VfDKaeUHgPXcfMaQK8BTC0yA2CqoO0VUEABBRSogcDxx8PTT8NFFxkAO+P1FHBa0RkA0/xsrYACCiigQE0Edt4ZNtgAjjzSAGgArH6JGQCrb2qPCiiggAIKJAussQZMmABbb20ANAAml9MHOjAAVt/UHhVQQAEFFEgSeOcdGDgQnnwSVlrJAGgATCqnThsbAKtvao8KKKCAAgokCfz5z7DppjB9OizQycVuLgJxEUhSgQEGwFRB2yuggAIKKFBlgcsugzPPhDvv7LxjA6ABMLXkDICpgrZXQAEFFFCgygLf/z78/e9w/vkGwPnRugo4regMgGl+tlZAAQUUUKDqAjvsAF/4Ahx6qAHQAFj18prXoQGwNq72qoACCiigQJ8Fhg+Hs8+GLbc0ABoA+1xGXTY0ANbG1V4VUEABBRTok8Bbb5WeAfzCC7DccgZAA2CfyqjbRgbAbol8gQIKKKCAAvUTuO8+2GILeP31zlcAx564CMRFIKkVaQBMFbS9AgoooIACVRT42c/gvPPg1lvn36kB0ACYWnIGwFRB2yuggAIKKFBFgaOOgvZ2+PGPDYBdsboKOK3oDIBpfrZWQAEFFFCgqgLbbgtf/jIceKAB0ABY1dJ6X2cGwNrZ2rMCCiiggAK9Flh5ZbjwQth8cwNgUQLgX4AVK3Z2IWBx4KvAdcC6wCRgfeBN4DxgbIfBxe/3zW7Pci/QCjxc8Zpq9FH5lgbAXn80baCAAgoooEBtBGbMgCFD4JVXYOmlDYBFCYAd93MkcCywAjAAeBy4ADgBGAHcAJwBnJk1PAKICd+tgCeBMcBe2WvfAgZVoY+O+2gArM1n2F4VUEABBRTotcBdd8F225UCYFebi0DyvQjkEeBaYDSwN3AqEHf0mZMd1IOACInDs98/BUwEzsp+HzOILwGjgEuq1IcBsNcfRxsooIACCihQH4ELLoCLL4abbzYAdiee10UgXwTagFWB57Jgt0Y2u1ce08bAbcBQYMHstHD82V0Vg44+HgIOr1IfBsDuKsq/V0ABBRRQoJ8ERo2Cd9+FSXHBWBebM4D5nQG8ClgM2C47fvE454HAbhXHc/Xs+r5hWQCMoBgh8bGK11we93sE9gOq0YcBsJ8+1L6tAgoooIAC3Qm0tMBXvwrf/a4BsDurPM4ALgs8C2wP3JgNIE7t5nYGsLW1lQED4jJFaGlpmfflpoACCiiggAL1FVh+ebjiCvjc5z74vm1tbcRXbLNnz2by5MnxyziLGBNFTbflMQAeD+wBfKLiaMRijtM6XAN4cLboo6trAKcBhwCXZgtC+trHodl1hM4ANt1HxAEroIACChRB4M034cMfLj0CLv7f1eYp4PydAo6FGzH798NshW/5+MUK3ji1G6uAx2cLP6YAEypWAcd1frEKeBsgFoQclwXJ1YDyKuDUPgyARfhXwH1UQAEFFGg6gdtvh112gRdf7H7oBsD8BcAdgZ9nt355vcMhXBs4O7sPYDtwDjCuw2ti9nB/YDAwtZP7AFajj8q39DYw3X/OfIUCCiiggAI1Fzj3XPjFL+A3v+n+rQyA+QuA3R+1fL3CAJiv4+HeKKCAAgo0qcBBB8HCC8PEWDXQzWYANAB2VyPd/b0BsDsh/14BBRRQQIE6CHzxi7D77rDPPt2/mQHQANh9lXT9CgNgqqDtFVBAAQUUqILAMsvAddfBRht135kB0ADYfZUYAFONbK+AAgoooEBNBV59FT76UWhvLz0LuLvNAGgA7K5Guvt7ZwC7E/LvFVBAAQUUqLHAH/4Ae+8Nz8Z9RHqwGQANgD0oky5fYgBMFbS9AgoooIACiQJnnQU33ABT4gZxPdgMgAbAHpSJATAVyfYKKKCAAgrUUuCAA2DwYDgtHvfQg80AaADsQZkYAFORbK+AAgoooEAtBTbbDPbdF/aK54b1YDMAGgB7UCYGwFQk2yuggAIKKFArgblzYaml4Le/hfXX79m7GAANgD2rlPm/ymsAUwVtr4ACCiigQILAtGmw/PIwcyZ86EM968gAaADsWaUYAFOdbK+AAgoooEBNBGLmL64B/Nvfet69AdAA2PNq6fyVzgCmCtpeAQUUUECBBIEf/hBuvrl0E+iebgZAA2BPa2V+rzMApgraXgEFFFBAgQSBWPwRTwEZP77nnRgADYA9rxZnAFOtbK+AAgoooEDVBTbeGEaOhG98o+ddGwANgD2vFgNgqpXtFVBAAQUUqKpArAAeOhRuuw3WXbfnXRsADYA9rxYDYKqV7RVQQAEFFKiqwHPPwSqrwKxZsOiiPe/aAGgA7Hm1GABTrWyvgAIKKKBAVQXi8W+jRsGjj/auWwOgAbB3FfPBV7sIJFXQ9goooIACCvRR4PTT4a674Oqre9eBAdAA2LuKMQCmetleAQUUUECBqgl885uw0kowdmzvujQAGgB7VzEGwFQv2yuggAIKKFA1gc98Bo46CnbeuXddGgANgL2rGANgqpftFVBAAQUUqIrAnDkwaBBMnQprrtm7Lg2ABsDeVYwBMNXL9goooIACClRF4MknYY01SiuAF1mkd10aAA2AvasYA2Cql+0VUEABBRSoisCvfgXHHAMPPdT77gyABsDeV837W7gKOFXQ9goooIACCvRB4OST4c9/hssu631jA6ABsPdVYwBMNbO9AgoooIACyQK77146Bfz97/e+KwOgAbD3VWMATDWzvQIKKKCAAskCn/oUHH887LBD77syABoAe181BsBUM9sroIACCiiQJPCvf8HAgfCXv8Dw4b3vygBoAOx91RgAU81sr4ACCiigQJLAY49BzADOnAkLLdT7rgyABsDeV40BMNXM9goooIACCiQJ/OIXMH483Hdf37oxABoA+1Y5/2nlKuBUQdsroIACCijQS4ETToAnnoCLL+5lw+zlBkADYN8qxwCY6mZ7BRRQQAEF+iywyy6w/vqlx8D1ZTMAGgD7UjeVbZwBTBW0vQIKKKCAAr0UWGstOPVU2HbbXjZ0BvDfYAv0jc5WmYAB0FJQQAEFFFCgjgKzZ5dWAMcp4JVX7tsbOwPoDGDfKuc/rQyAqYK2V0ABBRRQoBcCceuXjTaC6dNhwQV70bDipQbAfAbAjYETgQ2A94CHgc9lx21dYBKwPvAmcB4wtsPhj9/vC0Q4uxdozfoov6wafZT7MgD27bNnKwUUUEABBfokcMUVMGEC3H13n5rPa2QAzF8AjPD3f8CBwNXAu1nYuwcYBDwOXACcAIwAbgDOAM7MyuCIrO1WwJPAGGCv7LVvVamPyoozAPb982dLBRRQQAEFei1w7LHw4otwQaSBPm4GwPwFwFuAu4AIch23vYFTgeWAOdlfHgSMBMr3AX8KmAiclf193B7yJWAUcAlQjT4MgH38wNlMAQUUUECBVIEdd4RNN4XDDut7TwbAfAXAxYEZwATgv4BVgaeBk4FfZsFuDSBm98pbzBjeBgwF4kqAOC0cfxYhsry1AQ8Bh1epDwNg3z9ztlRAAQUUUCBJYMQImDQJWlr63o0BMF8BcHngeeBlYBvgAeArwOXAF7Lr+gYCu1Uc8tWz6/uGZQHwOSBC4mMVr4n204H9gPOB1D4MgH3/zNlSAQUUUECBPgv8858waBA8+yyssEKfu/EaQPIVAON6upjBOwUYXXFYbwTuBxbNwl3uZgBbW1sZMGDAvF1uaWmZ9+WmgAIKKKCAAtUVuP9+2HxzeOMNWKCXN7Jra2sjvmKbPXs2kydPjl/GGcSYJGq6rZd8Nfd5ArhqPgHwUeC0DtcAHpwt+ujqGsBpwCHApdmCkL72cWh2HaEzgDUvA99AAQUUUECBDwr8/Odwzjlw++1pOp4CztcMYBzNWNTxvew6vz8D22WngDcD/pqd2o11P+OzhR9TsmsGy6uA4zq/WEEcp5BjQchxwB7AakB5FXCcHk7pwwCY9rmztQIKKKCAAn0SOPpoeP11OPfcPjX/dyMDYP4CYByceLJf3LsvpmVjRvB44NfZUVsbODu7NUw7cA4wrkMZxOv3BwYDUzu5D2A1+ii/pbeBSfsM2loBBRRQQIEeC2y3HWy5JRwU00UJmwEwnwEw4ZDWvakBsO7kvqECCiigQLMKrLIKnHcebLFFmoAB0ACYVkGlp420t7e3M2RI/NJNAQUUUEABBWohMHMmDB4Mf/87LLNM2jsYAA2AaRVkAEz1s70CCiiggAI9ErjnHthqK3j11d6vAO74BgZAA2CPiq6LFzkDmCpoewUUUEABBXogcOGFcNFF8Ic/9ODF3bzEAGgATK0iA2CqoO0VUEABBRTogcDhh0PcCLp0+760zQBoAEyrIE8Bp/rZXgEFFFBAgR4JxOnf7beHAw7o0cu7fJEB0ACYWkXOAKYK2l4BBRRQQIEeCAwbBpdcApvFnYETNwOgATCxhFwFnApoewUUUEABBboTaG+HJZaAf/wDllqqu1d3//cGQANg91XS9SucAUwVtL0CCiiggALdCNxxB+y0E0yLh7tWYTMAGgBTy8gAmCpoewUUUEABBboRiJs/X3EF3HRTdagMgAbA1EoyAKYK2l4BBRRQQIFuBA4+uHTvvx/+sDpUBkADYGolGQBTBW2vgAIKKKBANwJf+hLsuit85zvVoTIAGgBTK8kAmCpoewUUUEABBboR+NjH4JprYOONq0NlADQAplaSATBV0PYKKKCAAgp0IfDaa/CRj8Cbb8LQodWhMgAaAFMryQCYKmh7BRRQQAEFuhC45RbYYw947rnqMRkADYCp1WQATBW0vQIKKKCAAl0InH02XH893HBD9ZgMgAbA1GoyAKYK2l4BBRRQQIEuBFpbYfHF4YwzqsdkADQAplaTATBV0PYKKKCAAgp0IfCFL8C3vgXf/Gb1mAyABsDUajIApgraXgEFFFBAgfkIzJ0LSy9dOv27wQbVYzIAGgBTq8kAmCpoewUUUEABBeYj8Pe/w7LLwsyZMHBg9ZgMgAbA1GoyAKYK2l4BBRRQQIH5CPzud6WbPz/1VHWJDIAGwNSKMgCmCtpeAQUUUECB+QiceSZECPzVr6pLZAA0AKZWlAEwVdD2CiiggAIKzEdgv/1gqaXg5JOrS2QANACmVpQBMFXQ9goooIACCsxHYNNN4YADSjeCruZmADQAptaTATBV0PYKKKCAAgp0IhArgJdYAv74R/jUp6pLZAA0AKZWlAEwVdD2CiiggAIKdCLwwguw0kowaxYstlh1iQyABsDUijIApgraXgEFFFBAgU4EbrwRDj4YHnus+jwGQANgalUZAFMFba+AAgoooEAnAhMmwO23wy9/WX0eA6ABMLWqDICpgrZXQAEFFFCgE4F4/NuwYXDCCdXnMQAaAFOrygCYKmh7BRRQQAEFOhH47GfhsMNg112rz2MANACmVpUBMFXQ9goooIACCnQQmDMHBg+Gu++GtdaqPo8B0ACYWlUGwFRB2yuggAIKKNBB4OmnYcSI0grgAQOqz2MANACmVpUBMFXQ9goooIACCnQQ+PWv4aij4OGHa0NjAMxXABwDHAu8RWm/5gLXA7tnh39dYBKwPvAmcB4wtkNpxO/3BSKY3Qu0ApXlU40+Kt/SAFibz6a9KqCAAgo0scApp8D998MVV9QGwQCYvwC4BbBZJ4d7EPA4cAEQ64FGADcAZwBnZq8/AjgQ2Ap4EohAuVf22giV1eij464ZAGvz2bRXBRRQQIEmFthzTxg+HI47rjYIBsDiBMC9gVOB5YA5WTkcBIwEhme/fwqYCJyV/X4h4CVgFHAJUI0+DIC1+SzaqwIKKKCAAv8WWG89OPZY2HHH2qAYAPMXAA/PTgHHjN0dwDHAM1mwWyOb3StXw8bAbcBQYMHstHD82V0V5dIGPAREvxEOU/swANbms2ivCiiggAIKzBN47z0YOBAefBBWW602KAbAfAXANYEZwPPAssDpwIbAJ4EfAQOB3SpKYfXs+r5hWQB8Lgt4lQ+NuRyYDuwHnF+FPgyAtfks2qsCCiiggALzBB5/HNZdF2bOhIUXrg2KATBfAbDjUY6F3+3AdsDWVZi9cwawNp8je1VAAQUUUKBqAtdcA2PHwgMPVK3LD3RkACxGANw+mxE8rcM1gAdniz66ugZwGnAIcED1bDMAACAASURBVGm2IKSvfRyaXUfY6Qxga2srA7IbFbW0tBBfbgoooIACCijQe4ETT4S//hV+/vPet+2qRVtbG/EV2+zZs5k8eXL8Mi4jizOFTbfF7Vbysu0M/B54DVgmOwX8OWCd7LYwcWo3VgGPzxZ+TAEmVKwCjuv8YhXwNkAsCIm1Q3sAcQVBeRVwah+dBsD29naGDIkFwW4KKKCAAgookCLw9a/DJz8JRx+d0kvXbZ0BzNcM4HXARtl1em8At2T3BYwwF9vawNnZfQDj1PA5wLgOh/h4YH9gMDC1k/sAVqOPyrf0NjC1+3zaswIKKKBAEwqssw6MHw/bx/m/Gm0GwHwFwBod5pp2awCsKa+dK6CAAgo0k8C775ZWAMcp4FVWqd3IDYAGwNTqMgCmCtpeAQUUUECBTOCRR2CDDWDGDFgwbvBWo80AaABMLS0DYKqg7RVQQAEFFMgErrwSTj8d7rmntiQGQANgaoUZAFMFba+AAgoooEAmMGYMPPss/O//1pbEAGgATK0wA2CqoO0VUEABBRTIBHbaCTbeGA6P+3rUcDMAGgBTy8sAmCpoewUUUEABBTKB1VeHH/wAttqqtiQGQANgaoUZAFMFba+AAgoooADw9tswaBA89RSsuGJtSQyABsDUCjMApgraXgEFFFBAAeDBB+Hzn4f2dligxo+pMAAaAFM/dAbAVEHbK6CAAgooEM9svRQmTYI//an2HAZAA2BqlRkAUwVtr4ACCiigADB6NLz6Kpx3Xu05DIAGwNQqMwCmCtpeAQUUUEAB4Ctfgc03h0MOqT2HAdAAmFplBsBUQdsroIACCigArLoqnHsufOlLtecwABoAU6vMAJgqaHsFFFBAgaYXmDULBg+GF1+EZZetPYcB0ACYWmUGwFRB2yuggAIKNL3A1KnQ0gL/+EftVwAHtgHQAJj6oTMApgraXgEFFFCg6QUuugh++lO45Zb6UBgADYCplWYATBW0vQIKKKBA0wsceSTMmAHnnFMfCgOgATC10gyAqYK2V0ABBRRoeoGtt4ZttoHW1vpQGAANgKmVZgBMFbS9AgoooEDTC6y0EsRp4P/6r/pQGAANgKmVZgBMFbS9AgoooEBTC0yfDkOHwiuvwNJL14fCAGgATK00A2CqoO0VUEABBZpa4M47SzeBfvnl+jEYAA2AqdVmAEwVtL0CCiigQFMLnH8+XHYZ/O539WMwABoAU6vNAJgqaHsFFFBAgaYWOPRQeO89+NGP6sdgADQAplabATBV0PYKKKCAAk0tsOWW8LWvwf7714/BAGgATK02A2CqoO0VUEABBZpaYLnl4KqrYNNN68dgADQAplabATBV0PYKKKCAAk0r8PrrsNRS8MYbsMQS9WMwABoAU6vNAJgqaHsFFFBAgaYVuPVW2G03eOGF+hIYAA2AqRVnAEwVtL0CCiigQNMK/PjHcM010NZWXwIDoAEwteIMgKmCtldAAQUUaFqBAw+ERReFCRPqS2AANACmVpwBMFXQ9goooIACTSuw+eaw557w7W/Xl8AAaABMrTgDYKqg7RVQQAEFmlYgHv02ZQp89rP1JTAAGgBTK84AmCpoewUUUECBphSIZ/8uswzMmAGDBtWXwABoAEytOANgqqDtFVBAAQWaUuDmm+Fb34Jnnqn/8A2ABsDUqjMApgraXgEFFFCgKQUmTSqt/v31r+s/fAOgATC16gyAqYK2V0ABBRRoSoHvfheGDoVTT63/8A2A+Q6A1wBfAb4E/D4rj3WBScD6wJvAecDYDqUTv98XiHB2L9AKPFzxmmr0Ue7OAFj/z63vqIACCijQAAKf+1zp+b+xCrjemwEwvwFwL+AbwJbZVwTAuET0ceAC4ARgBHADcAZwZlY8RwAHAlsBTwJjgOgrXvtWlfqorFMDYL0/tb6fAgoooEDhBebOhSWXhN/9Dj796foPxwCYzwC4AnAb8DnguYoZwL2BmCheDpiTlctBwEhgePb7p4CJwFnZ7xcCXgJGAZcA1ejDAFj/z6rvqIACCijQQAIvvgjDhsGsWbD44vUfmAEwnwEwHghzJfDTLOiVTwFHsFsjm90rV8vGWVgcCiyYnRaOP7uropyiv4eAw7NwmNqHAbD+n1XfUQEFFFCggQR+8xtobYUnnuifQRkA8xcA/ye77q8lK4mY6SsHwPOBgcBuFeWyenZ937AsAMaMYQS8xypeczkwHdgPqEYfBsD++bz6rgoooIACDSIwcSLccgtce23/DMgAmK8AuEo2m7ch8HwnATC3M4Ctra0MGDBg3i63tLTM+3JTQAEFFFBAgc4F9tkHll0WTjyxfkJtbW3EV2yzZ89m8uTJ8cs4gxiTRE23LZCjEcf1eedmB6K8X0sB7cAVwB3A6cCyFdcAHpwt+ujqGsBpwCHApdmCkNM6XEfY0z4Oza4jdAYwR0XjriiggAIKFE9go43g4INht8pzenUchjOA+ZoBXAxYssPxfwHYFfgt8K/s1G6sAh6fLfyYAkyoWAUc1/nFKuBtgFgQchywB7BaxSrgOD2c0ocBsI4fUt9KAQUUUKCxBGIF8JAhcMcdsM46/TM2A2C+AmBnVfBexW1g4u/XBs7O7gMYM4PnAOM6NDwe2B8YDEzt5D6A1eij/JbeBqZ/Pru+qwIKKKBAQQWefRZWXbW0AnjRRftnEAbA/AfA/qmMnr+rAbDnVr5SAQUUUEABpkyBI46ARx7pPwwDoAEwtfoMgKmCtldAAQUUaCqB006De+6Bq67qv2EbAA2AqdVnAEwVtL0CCiigQFMJ7LVX6RTwmHhWVz9tBkADYGrpGQBTBW2vgAIKKNBUAuuvD0cfDV/7Wv8N2wBoAEytPgNgqqDtFVBAAQWaRuC992DQILjvPlgjHtvQT5sB0ACYWnoGwFRB2yuggAIKNI3A3/4Ga60FM2fCIov037ANgAbA1OozAKYK2l4BBRRQoGkErrsOjj0W/vzn/h2yAdAAmFqBBsBUQdsroIACCjSNwPjx8PDDcGk8m6sfNwOgATC1/AyAqYK2V0ABBRRoGoFvfKN0CviYY/p3yAZAA2BqBRoAUwVtr4ACCijQNALrrgvjxsFXvtK/QzYAGgBTK9AAmCpoewUUUECBphB4993SCuA4BfyJT/TvkA2ABsDUCjQApgraXgEFFFCgKQQefRQ+/enSCuCFFurfIRsADYCpFWgATBW0vQIKKKBAUwhcfTWcfDLce2//D9cAaABMrUIDYKqg7RVQQAEFmkJg7Fh48kn42c/6f7gGQANgahUaAFMFba+AAgoo0BQCO+8MG2wARx7Z/8M1ABoAU6vQAJgqaHsFFFBAgaYQWHNNOP102Gab/h+uAdAAmFqFBsBUQdsroIACCjS8wDvvwMCBpVPAK63U/8M1ABoAU6vQAJgqaHsFFFBAgYYXeOgh2GQTmD4dFlig/4drADQAplahATBV0PYKKKCAAg0vcNllcOaZcOed+RiqAdAAmFqJBsBUQdsroIACCjS8wPe/D9OmwU9/mo+hGgANgKmVaABMFbS9AgoooEDDC+ywA2y2GYwalY+hGgANgKmVaABMFbS9AgoooEDDCwwfDpMnw3//dz6GagA0AKZWogEwVdD2CiiggAINLfDPf5ZWAD//PCy/fD6GagA0AKZWogEwVdD2CiiggAINLXDffbDFFvD66/lYARzYBkADYOqHzgCYKmh7BRRQQIGGFrj4Yjj3XLjttvwM0wBoAEytRgNgqqDtFVBAAQUaWuCoo6C9HX784/wM0wBoAEytRgNgqqDtFVBAAQUaWmDbbaGlBUaOzM8wDYAGwNRqNACmCtpeAQUUUKChBVZeGS68EDbfPD/DNAAaAFOr0QCYKmh7BRRQQIGGFZgxA4YMgZdfho9+ND/DNAAaAFOr0QCYKmh7BRRQQIGGFbjrLohTwK++mq8hGgANgKkVaQBMFbS9AgoooEDDClxwAcQq4JtvztcQDYAGwNSKNACmCtpeAQUUUKBhBQ47DN55B846K19DNAAaAFMr0gCYKmh7BRRQQIGGFYjVv1/9Knz3u/kaogHQAJhakQbAVEHbK6CAAgo0rMAKK8Bll8HnP5+vIRoA8xUAjwP2Aj4CvAc8DJwA3FRRNusCk4D1gTeB84CxHcoqfr8vEOHsXqA166v8smr0Ue7LAJivz7R7o4ACCiiQE4E334QPfxheew2WXDInO5XthgEwXwFwOPAK0A4sDBwEnAQsBcwCBgGPAxdkwXAEcANwBnBmdkyPAA4EtgKeBMZkoTJe+1aV+qisYgNgvj7T7o0CCiigQE4Ebr8ddt4ZXnopJztUsRsGwHwFwMoKWRQ4ADgEiGD4LrA3cCqwHDAne3GExLi3eLwmtqeAiUD5ctOFgCi9UcAlVerDAJi/z7J7pIACCiiQM4F4/u/VV8Nvf5uzHQMMgPkLgFtnQW0o8CywDfBIVjoR7NbIZvfK1bQxEI+XjtcvmJ0Wjj+7q6Lc2oCHgMOzcJjahwEwf59l90gBBRRQIGcCBx0ECy0EP/hBznbMADjvgCyQv8Myb4+WAMYB2wFrZaeAzwcGArtV7PPq2fV9w7IA+FwWEh+reM3lcayB/YBq9GEAzGnRuFsKKKCAAvkR+OIX4RvfgH3jqvycbc4A5jcAlsNpXA8Yp36vqdLsXTVmET8QAFtbWxkwYMC8P29paZn35aaAAgoooEAzCyyzDFx3HWy0UT4U2traiK/YZs+ezeTJk+OXcQYxJomabsvrDGAciFgIEgFwByCuIIgVwqd1uAbw4GzRR1fXAE7LriW8NLGPQ7PT0x8IgO3t7QyJhx26KaCAAgoooMC8R7/Fs3/b20vPAs7b5gxgvmYAY0FHnK6NlcBLA+OBLYB1KlbwxqndWAUcfxehbwowoWIVcFznF6uA49rBWBASt5bZA1itin0YAPP2SXZ/FFBAAQVyJfCHP8Dee8OzcTV/DjcDYL4C4PXAZ7JbtbwB/DELcE9X1M7awNnZfQBjdvCc7FrByvI6HtgfGAxM7eQ+gNXoo/x+3gYmhx9sd0kBBRRQoH8F4uzqlCnwf//Xv/sxv3c3AOYrAOazSrreKwNgEY+a+6yAAgooUFOBAw6AwYPhtLhwK4ebAdAAmFqWBsBUQdsroIACCjScwGabwT77lE4D53EzABoAU+vSAJgqaHsFFFBAgYYSmDsXlloKfvMb+Exc2JXDzQBoAEwtSwNgqqDtFVBAAQUaSmDaNFh+eZgxAwbG3XtzuBkADYCpZWkATBW0vQIKKKBAQwncdBPsvz88+WR+h2UANACmVqcBMFXQ9goooIACDSXwwx/CzTeXbgKd180AaABMrU0DYKqg7RVQQAEFGkrgO9+BpZeGk07K77AMgAbA1Oo0AKYK2l4BBRRQoKEENt4YRo4sPQc4r5sB0ACYWpsGwFRB2yuggAIKNIxArAAeOhRuvRU++cn8DssAaABMrU4DYKqg7RVQQAEFGkbguefg4x+HWbNgscXyOywDoAEwtToNgKmCtldAAQUUaBiBG26AQw+Fv/4130MyABoAUyvUAJgqaHsFFFBAgYYROP10uPNO+MUv8j0kA6ABMLVCDYCpgrZXQAEFFGgYgW9+E1ZaCcaOzfeQDIAGwNQKNQCmCtpeAQUUUKBhBDbYAI44AnbZJd9DMgAaAFMr1ACYKmh7BRRQQIGGEJgzBwYPhnvugTXXzPeQDIAGwNQKNQCmCtpeAQUUUKAhBJ56ClZfvbQCeJFF8j0kA6ABMLVCDYCpgrZXQAEFFGgIgV/9Co45Bh56KP/DMQAaAFOr1ACYKmh7BRRQQIGGEDj5ZHjwQbj88vwPxwBoAEytUgNgqqDtFVBAAQUaQmD33UungI89Nv/DMQAaAFOr1ACYKmh7BRRQQIGGEPjUp2DMGPjqV/M/HAOgATC1Sg2AqYK2V0ABBRQovMC//gUDB5au/xsxIv/DMQAaAFOr1ACYKmh7BRRQQIHCCzz2GHzyk6UVwAstlP/hGAANgKlVagBMFbS9AgoooEDhBX75Sxg3Du6/vxhDMQAaAFMr1QCYKmh7BRRQQIHCC5xwAjzxBFx8cTGGYgA0AKZWqgEwVdD2CiiggAKFF9h1V1hvPfje94oxFAOgATC1Ug2AqYK2V0ABBRQovMBaa8Epp8B22xVjKAZAA2BqpRoAUwVtr4ACCihQaIHZs0srgB9/HD7+8WIMxQBoAEytVANgqqDtFVBAAQUKLfCXv8CGG8KMGbDggsUYigHQAJhaqQbAVEHbK6CAAgoUWuCKK2DCBLj77uIMwwBoAEytVgNgqqDtFVBAAQUKLRCPfnvhBbjwwuIMwwBoAEytVgNgqqDtFVBAAQUKLbDjjrDppnDYYcUZhgHQAJharQbAVEHbK6CAAgoUWmC11eDMM+HLXy7OMAyABsDUajUApgraXgEFFFCgsAJvv11aAfzss7DCCsUZhgEwXwHwZGAbYCVgJvBH4EjghYqSWheYBKwPvAmcB4ztUHLx+32BCGf3Aq3Aw1Xuo9ydAbA4n3f3VAEFFFCgygIPPABf+AK8+SYssECVO69hdwbAfAXA8cDVwEPAh4BzgDWB9bIaGAQ8DlwAnACMAG4AzgDOzF5zBHAgsBXwJDAG2Ct77VtANfqoLEkDYA0/oHatgAIKKJBvgZ//HM4+G+64I9/72XHvDID5CoAdj88ngfuAJYF2YG/gVGA5YE724oOAkcDw7PdPAROBs7LfLwS8BIwCLqlSHwbAYn3O3VsFFFBAgRoJHH00vPYa/OQnNXqDGnVrAMx3AIzTv98FVsmOfwS7NbLZvXJJbAzcBgwF4vaTcVo4/uyuipppy2YVD8/CYWofBsAafSDtVgEFFFCgWALx6LcvfQkOPrhY+20AzG8A/BJwDbAj8NusrM4HBgK7VZTZ6tn1fcOyAPhcFhIfq3jN5cB0YD+gGn0YAIv1OXdvFVBAAQVqJLDKKnDeebDFFjV6gxp1awDMZwDcFrg4O137q4pj7wxgjT4IdquAAgoooEBvBWbNgkGDYNo0+NjHetu6f19vAMxfANw9u35vZ+CmDuURizlO63ANYEw6x6KPrq4BnAYcAlyaLQjpax+HZtcRfmAGsLW1lQEDBsz785aWlnlfbgoooIACCjSywD33wFZbwauvFmMFcFtbG/EV2+zZs5k8eXL8Mi4hi7OETbfladF2BLlY3bsdcHsnRyJW8Map3VgFHCuGI/RNASZUrAKO6/yin7idTCwIOQ7YA1gNKK8CTu3jAwGwvb2dIUNiQbCbAgoooIACzSHwv/9bevzbH+OmbQXbnAHM1wxgrOx9F3gnq6MIp3OzRR/lQLg2cHZ2H8BYGRy3ihnXoe6OB/YHBgNTO7kPYDX6KL+lt4Ep2Ife3VVAAQUUqI7A4YfDW2+VbgNTtM0AmK8AWLT6if01ABbxqLnPCiiggALJAnH6N1YB/8//JHdV9w4MgAbA1KIzAKYK2l4BBRRQoJACw4ZB3Ag6ngRStM0AaABMrVkDYKqg7RVQQAEFCifQ3g5LLFFaAPKRjxRu9zEAGgBTq9YAmCpoewUUUECBwgnEo9923BH+/vfC7fq8HTYAGgBTK9cAmCpoewUUUECBwgnEzZ+vuAJu6njDtoKMxABoAEwtVQNgqqDtFVBAAQUKJ3DIITB3Lpx5ZuF23RnA7JDl6T6ARawiA2ARj5r7rIACCiiQJBDP/911V/jOd5K66bfGzgA6A5hafAbAVEHbK6CAAgoUTmDZZeEXv4BNNincrjsD6AxgVYrWAFgVRjtRQAEFFCiKwGuvlVb+vvFGaSVwETdnAJ0BTK1bA2CqoO0VUEABBQolcMstsPvu8Pzzhdrt9+2sAdAAmFq9BsBUQdsroIACChRKIB799qtfwY03Fmq3DYAdDpeLQNLq1wCY5mdrBRRQQIGCCbS2wuKLwxlnFGzHK3bXGUBnAFOr1wCYKmh7BRRQQIFCCcSj3775TfjWtwq1284AOgNY1YI1AFaV084UUEABBfIsEPf+W3ppuOEG2GCDPO9p1/vmDKAzgKnVawBMFbS9AgoooEBhBF5+GT72MZgxAwYNKsxuf2BHDYAGwNTqNQCmCtpeAQUUUKAwAr/7Xenmz089VZhd7nRHDYAGwNQKNgCmCtpeAQUUUKAwAj/6Efz2t3D99YXZZQPgfA6Vq4DTatgAmOZnawUUUECBAgnstx8suSScckqBdrqTXXUG0BnA1Ao2AKYK2l4BBRRQoDACm24KBxwAe+xRmF12BtAZwJoUqwGwJqx2qoACCiiQN4FYARyPfvvDH2C99fK2d73bH2cAnQHsXcV88NUGwFRB2yuggAIKFELghRdgpZVg5szSjaCLvBkADYCp9WsATBW0vQIKKKBAIQTa2mDkSHj88ULsbpc7aQA0AKZWsQEwVdD2CiiggAKFEJgwAW6/HX75y0LsrgGwm8PkKuC0OjYApvnZWgEFFFCgIALf/jYsvzyMG1eQHe5iN50BdAYwtYoNgKmCtldAAQUUKITAZz8Lo0bB179eiN11BtAZwJoWqgGwprx2roACCiiQB4E5c2DIELjzTlh77TzsUdo+OAPoDGBaBYEBMFXQ9goooIACuRd4+mkYMQJmzYIBA3K/u93uoAHQANhtkXTzAgNgqqDtFVBAAQVyL/DrX8NRR8HDD+d+V3u0gwZAA2CPCqWLFxkAUwVtr4ACCiiQe4F49Nt998GVV+Z+V3u0gwZAA2CPCsUAmMpkewUUUECBIgvsuScMHw7HHVfkUfxn3w2ABsDUSnYGMFXQ9goooIACuRf49KfhmGNgp51yv6s92kEDoAGwR4XiDGAqk+0VUEABBYoq8N57MGgQPPAArLZaUUfx/v02ABoAUyvZGcBUQdsroIACCuRa4IknSrd+iRXACy+c613t8c4ZAA2APS6W+bzQAJgqaHsFFFBAgVwLXHMNHH88PPhgrnezVztnAMxXANwVaAU+CQwCFgHmVBzRdYFJwPrAm8B5wNgORzx+vy+l+/Pdm/VXuWi9Gn1UvqUBsFcfOV+sgAIKKFA0gRNPhEcfhUsuKdqez39/DYD5CoBbAksCHwLO7xAAIxA+DlwAnACMAG4AzgDOzA7xEcCBwFbAk8AYYK/stW9loTK1j47VZABsnH8PHIkCCiigQCcC8ei3ddeF0aMbh8cAmK8AWK6sLwC/7xAA9wZOBZarmBU8CBgJDM8aPgVMBM7Kfr8Q8BIwCoifW6rRhwGwcT7/jkQBBRRQoAcC66wD48fD9tv34MUFeYkBsDgBMILdGtnsXrm8NgZuA4YCC2anhePP7qqovzbgIeDwLBym9mEALMiH291UQAEFFEgXePddGDiwdAp41VXT+8tLDwbA4gTAOCU8ENitonhWB+L6vmFZAHwuC4mPVbzmcmA6sF92Wjm1DwNgXj697ocCCiigQM0FHnkEPvMZmDkTFoyplgbZDIDFCYC5ngFsbW1lQPZ07JaWFuLLTQEFFFBAgaILXHUVnHoqTJ1a9JFAW1vbvK/YZs+ezeTJk+OXcRYxJoqablsghyPu7BrAWMxxWodrAA/OFn10dQ3gNOAQ4NJsQUhf+zg0u47QGcAcFoy7pIACCihQG4ExY+CZZ+Cii2rTf3/16gxgvmYAY3I5bv0SATBW+A4G3ougnp3+jVO7sQp4fLbwYwowoWIVcFznF6uAtwFiQUg8sXAPIO5bXl4FnNqHAbC/Pq2+rwIKKKBA3QW+9jXYcEM4Iu6z0UCbATBfATBW6V4IzM1qLGYn49ebA7cAawNnZ/cBbAfOAcZ1qMfjgf2z8BgT1nFfwcr7AFajj8q39DYwDfQPgkNRQAEFFHi/wOqrw8SJsPXWjSVjAMxXACxidRkAi3jU3GcFFFBAgW4F3n679Azgp56CFVfs9uWFeoEB0ACYWrAGwFRB2yuggAIK5FIgHv32+c9DezsskMcVAwlqBkADYEL5zGtqAEwVtL0CCiigQC4FLr0UJk2CP/0pl7uXtFMGQANgUgEZAFP5bK+AAgookFeBePTbK6/A+XEn3gbbDIAGwNSSdgYwVdD2CiiggAK5Epg1C370IzjllNL/944lmg22GQANgKklbQBMFbS9AgoooEAuBOKxbzHbd8IJpUUfJ58MX/xiLnat6jthADQAphaVATBV0PYKKKCAAv0qMGcOXHEFHHssLLIInHQS7LBD4y38qEQ2ABoAUz90BsBUQdsroIACCvSLwNy5cOONcPTR8PrrMHYs7LknLLxwv+xOXd/UAGgATC04A2CqoO0VUEABBeoucMcdpeD38MNwzDFwwAGw2GJ1341+e0MDoAEwtfgMgKmCtldAAQUUqJvAX/5SCny//z2MGgWHHQZD4jtZk20GQANgaskbAFMFba+AAgooUHOBZ56BMWPgyithv/1KIfCjH6352+b2DQyABsDU4jQApgraXgEFFFCgZgJxH7/x4+EnP4Fddild57fyyjV7u8J0bAA0AKYWqwEwVdD2CiiggAJVF5g+HSZMgIkTS7dyOfFEWGedqr9NYTs0ABoAU4vXAJgqaHsFFFBAgaoJvP02nHNOadZvzTVLN3PeZJOqdd8wHRkADYCpxWwATBW0vQIKKKBAssC//gUXX1y6zm/JJUs3cf7ylxv7Xn4paAZAA2BK/URbA2CqoO0VUEABBfosEPfyu/ba0qKOd94pnerddVdYcME+d9kUDQ2ABsDUQjcApgraXgEFFFCgTwI33wzf+x489xwcdxzssw8MGNCnrpqukQHQAJha9AbAVEHbK6CAAgr0SuDee2H0aLjrLjjqKDjoIBg4sFddNP2LDYAGwNQPgQEwVdD2CiiggAI9Enj88dLzeq+/HkaOLIW/uN7PrfcCBkADYO+r5v0tDICpgrZXQAEFFOhS4MUX4YQT4KKLYO+9S6d7l19etBQBA6ABMKV+oq0BMFXQ9goooIACnQq8/jqceipMmgTbbQfjxsGIdVoCDwAAD6FJREFUEWJVQ8AAaABMrSMDYKqg7RVQQAEF3icwaxb86Eel8LfhhnDSSbD++iJVU8AAaABMrScDYKqg7RVQQAEF5gm8+y6cf37pdO+KK5bu5RdP8XCrvoAB0ACYWlUGwFRB2yuggAJNLjBnDlxxRWmBR9zGJZ7iscMO3sS5lmVhADQAptaXATBV0PYKKKBAkwrETZxvvBGOPhrier+xY2HPPWHhhZsUpI7DNgAaAFPLrSEDYFx/8uyzJZrVVoOFFkplsr0CCiigQKXAHXeUgt/DD5ee4nHAAbDYYhrVS8AAaABMrbVCBsBywHvmGejs69VX4UMfgvjpNMLfZz4Dn/1s6WuDDWDYME9NpBaO7RVQoDkF/vKXUuD7/e9h1Cg47DAYEt9J3OoqYAA0AKYWXC4D4MyZpRm8ynBX+ftywPv4x2HllTv/WmopeO89eOQRuPtuuOee0v8fegg+8pH/BMIIhREQvRlpainZXgEFGlkg/j0eMwauvBL2268UAj/60UYecb7HZgA0AKZWaL8EwM4CXmXY+8c/So8Fml+4iz+PgLfAAr0f/ltvwf33l8JgORg++SR84hPvD4Wf+hQsvnjv+7eFAgoo0EgCL79cWtRx3nmwyy6l6/zi32C3/hUwABoAUyuwJgGwPwNeX0AicE6d+p9QGMHwjTdgnXXeHwrXWMPrCfviaxsFFCiewPTpMGECTJxYupVLhMC11y7eOBp1jw2ABsDU2u5TACxawOstUlw7GKecy6eNIxBGQIwZx7iZafl6wvh/3OuqLzORvd0nX6+AAgrUQ+Dtt+Gcc0qBb8014ZRTYJNN6vHOvkdvBAyABsDe1Etnr+00ADZ6wOsL2r/+BY8++v5Q+Oc/l05Fx8KSykUm8WduCiigQJEE4t+4iy8uXecX10THTZy//GV/wM3rMTQAGgBTa3NeABw5sp1p04b8e9FFLa/BS93hPLWP6wkfeOD9i0z+9jdYddX/rDiOYLjeeqVVyW4KKKBA3gTijMe115YWdbzzDpx4Iuy6Kyy4YN721P2pFDAAGgBTPxHzAuB3vtPOiBFD3rfooq+LLFJ3qOjtX3vtg9cTxp+VrycszxbGqRVvllr0o+3+K5BPgQh1cQ1f/DDf3dcLL0Cc9j3uONhnn9KTPNzyL2AANAB2VaVjgX2BCHn3Aq3Awx0a9OkawPx/NPKzh/EP8fPPv3+BSVxPGH9evp6wHApjZV0zXU8Yp5zicoPKrxkzYPbs0n3Fhg6FJZYo/T9mUJvJJj8V7J7kQSDONnQX5OL2WJWvic/XIouUbnvV3demm5buvOBWHAEDoAFwftV6BHAgsBXwJDAG2AsYAbxV0aihA2BbWxstLS25+0TH/Qn/+tf3h8K4njDCTuUCkwiG8Q93Z1u9xxb7HDfgjrAWIa1jaCv/vqu/69g2Zh3KWwS8QYNKX7NntzFnTgvt7aX3jC1mSyMIVobCcjjs7M86+7v4ZtjfW72PW73H28jjq9bY4gec7sJcx7//5z9LPwDFmZnuwlz8/dJLl143eHDPfnCq1tjqXW89eb9GHZsB0AA4v/p/CpgInJW9IB6G9hIwCrikWQLgqFGjmBj3MCjAFv/Ax/WElSuPn3gC4mbXlaEwrieMn9S7Gls8mL0c1noSzHoS2mL/yls87im+sZQDW/w/5fcxnsrH9VWO7d13S6ey3nyTeYEwvsq/7smfxWtiJiS2CJmVYbGnwbEcJmOcqddFFakmKz82MWMdxyK+IsDEV+Wv4/fhPHHiKI48cuK849mTrwj2la8L37zO9HZ27OIHo3gGbm8CXdRzbFF/5TBXDmxdhbuow1o91rKoddmTf9obdWwGQANgZ/Ufs3pvAhsDd1W8oA14CDjcANiTfzb6/zXxjaV8f8IIhnfdBXGaJ+7F9dZbo/jEJyb+eyauMsSVZ81iBIsuWgpqKQGtsn2EtVpfu1jNf7AjuER4rQyOPQ2R5YBZ/oYd4aTjqelyOOz4//nNVI4ePYoJEybOe0pNOUh1DFMdg1VXoatefxfv09kWtRDXjMXsavx65sxRLLZYaXwdv3r6iQrnnoTH+b2mY6hM6SvaRn8RSn/zm1GsuurE94W9uF9o1Fh8LnoyM1d+Tczk5WFGunxMqvmZ6+lxrtfrGnVsBkADYGefoRWA54A1gMcqXnA5ED977tcxAD7//PMMacCHOY4ePZqTTjqpXv/O1Px94hvNiy/CvffCueeOZuedT5r3jScCWvn/lb+OP8vTN5meAuXtuEWQiYAdQTDCY/y//OvyrGTln3X2d7G6MrYFFhjN3Lmd12QEnwhT8VUOVuVwFcex4697+rpoW9m+3E9XfXf2fpX9lN+744xoV8cuZqY7C4bx5zF72PHvunr9/Pop/3llfyn9lPuLPqZOLX3mIryVT8XG/+OWKUV/alDePnM9/beiJ69r1LFFABwWD7aHodn39p5wNNRr+vAwsIYaf+oM4PLACw0v4gAVUEABBRRoTIGY9HmxMYfW9agMgJ37dHYN4DTg0A7XAIbfcsCMZiwex6yAAgoooECBBQZn1/fPLfAY+rzrBsDO6eI6v1gFvA0QYfA4YA9gtQ6rgPsMb0MFFFBAAQUUUKC/BAyA85c/HtgfiJ8Qps7nPoD9ddx8XwUUUEABBRRQoM8CBsA+09lQAQUUUEABBRQopoABsG/HbddsRvCTwCAgbpE7p29d5a7Vydmp75WAmcAfgSMbZLFLnMqPG3rH7aHfy57scgJwU+6OQvoOXQN8BfgS8Pv07vq1h7gR+7HZ5Rfxb1Zcr3M9sHu/7lV13zxuO3UisEFFbX6uum/RL739BVix4p3jnqqLA18FruuXParem344u1/sl+OOUcCjwNHALdV7i37taQng1Oz7Qdwe7U/AQR3ujtGvO9jDN+/u+/W6wCRg/ewWcOcB8SSwht8MgH07xFsCS8a9cYHzGywAjgeuzu55GOM7B1gTWK9vVLlqNRx4JZ7fHA/HyP4xi3uKLAVkz8zI1f72dWci5H4DiDqNr0YIgFsAm/UVJOftIvz9X3bdcXz24q6B8c3onpzvd192b2QW5mPl5ey+dJCjNj8H4j4iEWbfyBYJxqVDEXjjXrJF3yKgx5ON49+S+PcxwuBO2bXwFbe2z/0wu/p+HRM4jwMXADEZEE/7ugE4Azgz9yNL3EEDYBrgF7Jvro00A9hRJGY578sCbwSnRtniJ/YDgEOACIbzuVVv4YYb31hvA2L2KO5n2SgzgI0cAGPGKG46H4+gbPTtEeBaYHQDDDQeDPCTbPYohhNPA447QmzYAOE9fviP+95uAtydHav4NzPOCsUPmJcV8Ph19v167yzYxt08ymfxYpYzflCJ7wsNvRkA0w5vMwTAOP37XWCVNKrctN46u5VP3Pzz2ez0RnxTapQtnlhzJfDT7B+0RgmAsTI/nsMdX3cAxwDPNMBBi9OhERomAP8FrAo8DcSlGL9sgPFVDuGLQNTnJ7LPXtGHF6cJY0w7A69ljwrdB1gHyG5dXtghRgCMuowAWH4iVrlWf1DQH1Y6+34dzzqNhz5sVXGkYkY+foiO7xEReBt2MwCmHdpGD4ARHuJash2B36ZR5a51XN8yDtgOWKtBTgH/T3bdX0umHT/RNkIAjEsQ4pvR88CywOnARkBcuxOBsMhb3Ew+xvVy9sPIA9kxjCcPxSnvysdRFnmcse9XAYtln7mijyX2P8YS/z7G5y2emP16djo4rpVrhC3Cemx7Zv8+npKdNYkfLuMOGUXbOvt+HZdwxcztbhWDWT27PjxO779UtEH2Zn8NgL3R+uBrGzkAbgtcDMQU+a/SmHLbOuo/TmvHGOMf8iJvMUMbP7XG6acIFLE1SgDseFziuqQ4bhHei76Ap/zs8fjmWnla9Ebg/mxRQZHrsrzvEdxjxn17IMbWCNut2fVjo7IfUOLfzJ9lwf3PDTDAWCwXP2zFD5ELArE4ImY74xR+zMAXbXMGsMMRMwCmlXCjBsBYXXlW9mEv+jfYro5wLASJILFDA8xwRog9N7tup/y5jsUtMb4rstP4adWen9blABhhohFmpp/IZscaOQDG4oi4mX6c/m2ELT5br2aL4x6sGNC9QMzeRnBqtG3pistmbi7g4Dr7fh3XM56WPdGrfA3gwdmCLK8BLOBBrscux09DsfAjCipWDMXNouO2IrGqreiPlIknoMRqqJhdub0emHV8j7i4N/5xjpXA8Y9ZrHiOxQVxzU7RTyXG6ahYmV65xXOq4xYIEZKKvCoxZh1iJXNcZ7VM9s01FrnEcWuE1dtRl9/LrkOKmaP47JVPAcdN6Iu+xa1fYvbvh9nqyqKPp7z/8ZSo+AH5sOxasXhyVJzmjuuMixiQOh6XWBEbq5sj6EZwPxt4O5vFLdIx7Or7dZz+fSxbBRzfDyL0TcmuyXUVcJGOch33NWZbLqwIe+V7k23eAPeAip+CYkVs+SLm8tjiItmiB8K4d9xnsns3xj9scY/DuDdgXHTfiFv8UNIIt4GJ21HENX/xj3Uct1g1G/cFjG/AjbIdld1bNC48jxnBmDH7dYMMLq4hjlumxAr1uE6uUba4NjVmj+Kyi5gQiEsvIuTGNXKNsH0rmwyI+x3GD1+XAnFPzqLdvqe779drZ+E2br0UZ0zi1mdxfXjDb54CbvhD7AAVUEABBRRQQIH3CxgArQgFFFBAAQUUUKDJBAyATXbAHa4CCiiggAIKKGAAtAYUUEABBRRQQIEmEzAANtkBd7gKKKCAAgoooIAB0BpQQAEFFFBAAQWaTMAA2GQH3OEqoIACCiiggAIGQGtAAQUUUEABBRRoMgEDYJMdcIergAIKKKCAAgoYAK0BBRRQQAEFFFCgyQQMgE12wB2uAgoooIACCihgALQGFFBAAQUUUECBJhMwADbZAXe4CiiggAIKKKCAAdAaUEABBRRQQAEFmkzAANhkB9zhKqCAAgoooIACBkBrQAEFFFBAAQUUaDIBA2CTHXCHq4ACCiiggAIKGACtAQUUUEABBRRQoMkEDIBNdsAdrgIKKKCAAgooYAC0BhRQQAEFFFBAgSYTMAA22QF3uAoooIACCiiggAHQGlBAAQUUUEABBZpMwADYZAfc4SqggAIKKKCAAgZAa0ABBRRQQAEFFGgyAQNgkx1wh6uAAgoooIACChgArQEFFFBAAQUUUKDJBAyATXbAHa4CCiiggAIKKGAAtAYUUEABBRRQQIEmEzAANtkBd7gKKKCAAgoooIAB0BpQQAEFFFBAAQWaTMAA2GQH3OEqoIACCiiggAIGQGtAAQUUUEABBRRoMgEDYJMdcIergAIKKKCAAgoYAK0BBRRQQAEFFFCgyQT+HzwjTnYQvCy7AAAAAElFTkSuQmCC\">"
      ],
      "text/plain": [
       "<IPython.core.display.HTML object>"
      ]
     },
     "metadata": {},
     "output_type": "display_data"
    },
    {
     "data": {
      "text/plain": [
       "[<matplotlib.lines.Line2D at 0x7f8a9de61f60>]"
      ]
     },
     "execution_count": 17,
     "metadata": {},
     "output_type": "execute_result"
    }
   ],
   "source": [
    "plt.plot(list(players.keys()), list(players.values()))"
   ]
  },
  {
   "cell_type": "markdown",
   "metadata": {},
   "source": [
    "# Machine Learning"
   ]
  },
  {
   "cell_type": "code",
   "execution_count": 18,
   "metadata": {
    "ExecuteTime": {
     "end_time": "2017-02-08T11:56:33.101920",
     "start_time": "2017-02-08T11:56:27.270651"
    },
    "collapsed": false
   },
   "outputs": [
    {
     "data": {
      "text/plain": [
       "((89772, 520), (9975, 3))"
      ]
     },
     "execution_count": 18,
     "metadata": {},
     "output_type": "execute_result"
    }
   ],
   "source": [
    "from sklearn.cross_validation import train_test_split\n",
    "X_train, X_test, Y_train, Y_test = train_test_split(X, Y, train_size=0.90)\n",
    "X_train.shape, Y_test.shape"
   ]
  },
  {
   "cell_type": "code",
   "execution_count": 60,
   "metadata": {
    "ExecuteTime": {
     "end_time": "2017-02-08T13:17:19.174244",
     "start_time": "2017-02-08T13:10:35.290770"
    },
    "collapsed": false
   },
   "outputs": [
    {
     "name": "stdout",
     "output_type": "stream",
     "text": [
      "Train on 83039 samples, validate on 6733 samples\n",
      "Epoch 1/10\n",
      "83039/83039 [==============================] - 40s - loss: 9.4678 - out_winner_loss: 0.7112 - out_concede_loss: 0.6637 - out_secs_loss: 3690819.3608 - out_winner_acc: 0.5458 - out_concede_acc: 0.6378 - out_secs_mean_absolute_error: 1779.8767 - val_loss: 6.0389 - val_out_winner_loss: 0.6843 - val_out_concede_loss: 0.6425 - val_out_secs_loss: 2013887.1477 - val_out_winner_acc: 0.5679 - val_out_concede_acc: 0.6700 - val_out_secs_mean_absolute_error: 1252.1100\n",
      "Epoch 2/10\n",
      "83039/83039 [==============================] - 39s - loss: 3.8948 - out_winner_loss: 0.6989 - out_concede_loss: 0.6433 - out_secs_loss: 926873.7683 - out_winner_acc: 0.5557 - out_concede_acc: 0.6646 - out_secs_mean_absolute_error: 753.5654 - val_loss: 2.8828 - val_out_winner_loss: 0.6620 - val_out_concede_loss: 0.6526 - val_out_secs_loss: 453018.9148 - val_out_winner_acc: 0.6036 - val_out_concede_acc: 0.6707 - val_out_secs_mean_absolute_error: 531.3538\n",
      "Epoch 3/10\n",
      "83039/83039 [==============================] - 44s - loss: 3.0139 - out_winner_loss: 0.6945 - out_concede_loss: 0.6395 - out_secs_loss: 492635.6714 - out_winner_acc: 0.5641 - out_concede_acc: 0.6683 - out_secs_mean_absolute_error: 556.6242 - val_loss: 2.8272 - val_out_winner_loss: 0.6627 - val_out_concede_loss: 0.6228 - val_out_secs_loss: 439517.4566 - val_out_winner_acc: 0.6000 - val_out_concede_acc: 0.6823 - val_out_secs_mean_absolute_error: 531.7112\n",
      "Epoch 4/10\n",
      "83039/83039 [==============================] - 45s - loss: 2.9928 - out_winner_loss: 0.6916 - out_concede_loss: 0.6368 - out_secs_loss: 486419.0891 - out_winner_acc: 0.5691 - out_concede_acc: 0.6736 - out_secs_mean_absolute_error: 553.8531 - val_loss: 2.8622 - val_out_winner_loss: 0.6714 - val_out_concede_loss: 0.6339 - val_out_secs_loss: 442706.2922 - val_out_winner_acc: 0.5666 - val_out_concede_acc: 0.6698 - val_out_secs_mean_absolute_error: 529.1285\n",
      "Epoch 5/10\n",
      "83039/83039 [==============================] - 45s - loss: 2.9828 - out_winner_loss: 0.6922 - out_concede_loss: 0.6354 - out_secs_loss: 481530.3375 - out_winner_acc: 0.5686 - out_concede_acc: 0.6742 - out_secs_mean_absolute_error: 550.8389 - val_loss: 2.8338 - val_out_winner_loss: 0.6668 - val_out_concede_loss: 0.6270 - val_out_secs_loss: 436649.6008 - val_out_winner_acc: 0.5880 - val_out_concede_acc: 0.6749 - val_out_secs_mean_absolute_error: 526.7483\n",
      "Epoch 6/10\n",
      "83039/83039 [==============================] - 40s - loss: 2.9705 - out_winner_loss: 0.6898 - out_concede_loss: 0.6339 - out_secs_loss: 478513.3181 - out_winner_acc: 0.5715 - out_concede_acc: 0.6749 - out_secs_mean_absolute_error: 549.8962 - val_loss: 2.9180 - val_out_winner_loss: 0.7029 - val_out_concede_loss: 0.6428 - val_out_secs_loss: 434736.4003 - val_out_winner_acc: 0.5700 - val_out_concede_acc: 0.6783 - val_out_secs_mean_absolute_error: 523.8812\n",
      "Epoch 7/10\n",
      "83039/83039 [==============================] - 38s - loss: 2.9615 - out_winner_loss: 0.6864 - out_concede_loss: 0.6338 - out_secs_loss: 477464.9669 - out_winner_acc: 0.5757 - out_concede_acc: 0.6764 - out_secs_mean_absolute_error: 548.3633 - val_loss: 2.7820 - val_out_winner_loss: 0.6497 - val_out_concede_loss: 0.6191 - val_out_secs_loss: 431785.8316 - val_out_winner_acc: 0.6174 - val_out_concede_acc: 0.6850 - val_out_secs_mean_absolute_error: 524.7582\n",
      "Epoch 8/10\n",
      "83039/83039 [==============================] - 37s - loss: 2.9485 - out_winner_loss: 0.6849 - out_concede_loss: 0.6336 - out_secs_loss: 472575.5980 - out_winner_acc: 0.5796 - out_concede_acc: 0.6740 - out_secs_mean_absolute_error: 546.0207 - val_loss: 2.8265 - val_out_winner_loss: 0.6688 - val_out_concede_loss: 0.6267 - val_out_secs_loss: 431133.7256 - val_out_winner_acc: 0.5893 - val_out_concede_acc: 0.6783 - val_out_secs_mean_absolute_error: 524.7857\n",
      "Epoch 9/10\n",
      "83039/83039 [==============================] - 35s - loss: 2.9468 - out_winner_loss: 0.6849 - out_concede_loss: 0.6323 - out_secs_loss: 472389.4338 - out_winner_acc: 0.5774 - out_concede_acc: 0.6761 - out_secs_mean_absolute_error: 546.1937 - val_loss: 2.8024 - val_out_winner_loss: 0.6550 - val_out_concede_loss: 0.6289 - val_out_secs_loss: 431754.6541 - val_out_winner_acc: 0.6143 - val_out_concede_acc: 0.6770 - val_out_secs_mean_absolute_error: 524.2444\n",
      "Epoch 10/10\n",
      "83039/83039 [==============================] - 33s - loss: 2.9396 - out_winner_loss: 0.6831 - out_concede_loss: 0.6325 - out_secs_loss: 470472.6463 - out_winner_acc: 0.5801 - out_concede_acc: 0.6742 - out_secs_mean_absolute_error: 544.4657 - val_loss: 2.8060 - val_out_winner_loss: 0.6539 - val_out_concede_loss: 0.6349 - val_out_secs_loss: 431589.3379 - val_out_winner_acc: 0.6199 - val_out_concede_acc: 0.6777 - val_out_secs_mean_absolute_error: 523.5141\n"
     ]
    }
   ],
   "source": [
    "from keras.models import Sequential, Model\n",
    "from keras.layers import Activation, Dense, Dropout, ELU, Reshape, Convolution2D, Flatten, Permute, BatchNormalization, Input\n",
    "from keras.regularizers import l2, activity_l2\n",
    "hero_input = Input(shape=[2 * AVAIL_HEROES], name='hero_input')\n",
    "h = Reshape([1, 2, AVAIL_HEROES], input_shape=[AVAIL_HEROES*2,])(hero_input)\n",
    "h = Permute([2, 3, 1])(h)\n",
    "h = Convolution2D(135, 1, AVAIL_HEROES, border_mode='valid')(h) # learn to represent 135 heroes from 260-d vector\n",
    "h = ELU()(h)\n",
    "h = Convolution2D(64, 1, 1, border_mode='valid')(h)\n",
    "h = ELU()(h)\n",
    "h = Flatten()(h)\n",
    "h = Dense(128)(h)\n",
    "h = BatchNormalization()(h)\n",
    "h = Activation('relu')(h)\n",
    "h = Dropout(0.5)(h)\n",
    "h = Dense(128)(h)\n",
    "h = BatchNormalization()(h)\n",
    "h = Activation('relu')(h)\n",
    "h = Dropout(0.5)(h)\n",
    "h = Dense(128)(h)\n",
    "h = BatchNormalization()(h)\n",
    "h = Activation('relu')(h)\n",
    "logit = Dropout(0.5)(h)\n",
    "out_winner = Dense(output_dim=2, activation='softmax', name='out_winner')(logit) # 0 for legion and 1 for hellbourne team\n",
    "out_concede = Dense(output_dim=1, activation='sigmoid', name='out_concede')(logit) # would the loser concede ?\n",
    "out_secs = Dense(output_dim=1, name='out_secs')(logit) # how many seconds would the game last ?\n",
    "model = Model(hero_input, [out_winner, out_concede, out_secs])\n",
    "loss = ['sparse_categorical_crossentropy', 'binary_crossentropy', 'mean_squared_error']\n",
    "metrics = {\n",
    "    'out_winner': 'accuracy',\n",
    "    'out_concede': 'accuracy',\n",
    "    'out_secs': 'mean_absolute_error'\n",
    "}\n",
    "loss_weights = {\n",
    "    'out_winner': 2.,\n",
    "    'out_concede': 1.,\n",
    "    'out_secs': 1./500000 # mean squared loss is so high we have to penalize it, otherwise, it would steal the computation\n",
    "}\n",
    "model.compile(loss=loss, optimizer='adam', metrics=metrics, loss_weights=loss_weights)\n",
    "hist = model.fit(X_train, np.split(Y_train, 3, axis=1), batch_size=32, nb_epoch=10, verbose=1, validation_split=0.075)"
   ]
  },
  {
   "cell_type": "code",
   "execution_count": 61,
   "metadata": {
    "ExecuteTime": {
     "end_time": "2017-02-08T13:17:25.419809",
     "start_time": "2017-02-08T13:17:23.860758"
    },
    "collapsed": false,
    "scrolled": false
   },
   "outputs": [
    {
     "name": "stdout",
     "output_type": "stream",
     "text": [
      "____________________________________________________________________________________________________\n",
      "Layer (type)                     Output Shape          Param #     Connected to                     \n",
      "====================================================================================================\n",
      "hero_input (InputLayer)          (None, 520)           0                                            \n",
      "____________________________________________________________________________________________________\n",
      "reshape_9 (Reshape)              (None, 1, 2, 260)     0           hero_input[0][0]                 \n",
      "____________________________________________________________________________________________________\n",
      "permute_9 (Permute)              (None, 2, 260, 1)     0           reshape_9[0][0]                  \n",
      "____________________________________________________________________________________________________\n",
      "convolution2d_17 (Convolution2D) (None, 2, 1, 135)     35235       permute_9[0][0]                  \n",
      "____________________________________________________________________________________________________\n",
      "elu_17 (ELU)                     (None, 2, 1, 135)     0           convolution2d_17[0][0]           \n",
      "____________________________________________________________________________________________________\n",
      "convolution2d_18 (Convolution2D) (None, 2, 1, 64)      8704        elu_17[0][0]                     \n",
      "____________________________________________________________________________________________________\n",
      "elu_18 (ELU)                     (None, 2, 1, 64)      0           convolution2d_18[0][0]           \n",
      "____________________________________________________________________________________________________\n",
      "flatten_9 (Flatten)              (None, 128)           0           elu_18[0][0]                     \n",
      "____________________________________________________________________________________________________\n",
      "dense_28 (Dense)                 (None, 128)           16512       flatten_9[0][0]                  \n",
      "____________________________________________________________________________________________________\n",
      "batchnormalization_25 (BatchNorm (None, 128)           512         dense_28[0][0]                   \n",
      "____________________________________________________________________________________________________\n",
      "activation_26 (Activation)       (None, 128)           0           batchnormalization_25[0][0]      \n",
      "____________________________________________________________________________________________________\n",
      "dropout_25 (Dropout)             (None, 128)           0           activation_26[0][0]              \n",
      "____________________________________________________________________________________________________\n",
      "dense_29 (Dense)                 (None, 128)           16512       dropout_25[0][0]                 \n",
      "____________________________________________________________________________________________________\n",
      "batchnormalization_26 (BatchNorm (None, 128)           512         dense_29[0][0]                   \n",
      "____________________________________________________________________________________________________\n",
      "activation_27 (Activation)       (None, 128)           0           batchnormalization_26[0][0]      \n",
      "____________________________________________________________________________________________________\n",
      "dropout_26 (Dropout)             (None, 128)           0           activation_27[0][0]              \n",
      "____________________________________________________________________________________________________\n",
      "dense_30 (Dense)                 (None, 128)           16512       dropout_26[0][0]                 \n",
      "____________________________________________________________________________________________________\n",
      "batchnormalization_27 (BatchNorm (None, 128)           512         dense_30[0][0]                   \n",
      "____________________________________________________________________________________________________\n",
      "activation_28 (Activation)       (None, 128)           0           batchnormalization_27[0][0]      \n",
      "____________________________________________________________________________________________________\n",
      "dropout_27 (Dropout)             (None, 128)           0           activation_28[0][0]              \n",
      "____________________________________________________________________________________________________\n",
      "out_winner (Dense)               (None, 2)             258         dropout_27[0][0]                 \n",
      "____________________________________________________________________________________________________\n",
      "out_concede (Dense)              (None, 1)             129         dropout_27[0][0]                 \n",
      "____________________________________________________________________________________________________\n",
      "out_secs (Dense)                 (None, 1)             129         dropout_27[0][0]                 \n",
      "====================================================================================================\n",
      "Total params: 95,527\n",
      "Trainable params: 94,759\n",
      "Non-trainable params: 768\n",
      "____________________________________________________________________________________________________\n"
     ]
    }
   ],
   "source": [
    "model.summary()\n",
    "model.save('honnet_brain.h5')"
   ]
  },
  {
   "cell_type": "code",
   "execution_count": 63,
   "metadata": {
    "ExecuteTime": {
     "end_time": "2017-02-08T13:17:49.357202",
     "start_time": "2017-02-08T13:17:47.220313"
    },
    "collapsed": false
   },
   "outputs": [
    {
     "name": "stdout",
     "output_type": "stream",
     "text": [
      "9952/9975 [============================>.] - ETA: 0s"
     ]
    },
    {
     "data": {
      "text/plain": [
       "[2.8025289691360973,\n",
       " 0.65950603291504362,\n",
       " 0.63081922795240741,\n",
       " 426348.84098057647,\n",
       " 0.60461152881010438,\n",
       " 0.68250626562830796,\n",
       " 522.33692698543234]"
      ]
     },
     "execution_count": 63,
     "metadata": {},
     "output_type": "execute_result"
    }
   ],
   "source": [
    "loss_and_metrics = model.evaluate(X_test, np.split(Y_test, 3, axis=1), batch_size=32, verbose=1)\n",
    "loss_and_metrics"
   ]
  },
  {
   "cell_type": "code",
   "execution_count": 68,
   "metadata": {
    "ExecuteTime": {
     "end_time": "2017-02-08T13:23:16.529268",
     "start_time": "2017-02-08T13:23:16.517437"
    },
    "collapsed": false
   },
   "outputs": [
    {
     "data": {
      "text/plain": [
       "(array([[    0.544,     0.456,     0.775,  2069.57 ],\n",
       "        [    0.595,     0.405,     0.758,  1886.055],\n",
       "        [    0.431,     0.569,     0.776,  2188.628],\n",
       "        [    0.423,     0.577,     0.775,  2094.821],\n",
       "        [    0.362,     0.638,     0.748,  2115.829],\n",
       "        [    0.327,     0.673,     0.786,  1958.811],\n",
       "        [    0.386,     0.614,     0.741,  2015.95 ],\n",
       "        [    0.445,     0.555,     0.784,  1975.219],\n",
       "        [    0.541,     0.459,     0.307,   955.35 ],\n",
       "        [    0.502,     0.498,     0.766,  2189.826]], dtype=float32),\n",
       " array([[    1.,     1.,  2514.],\n",
       "        [    1.,     1.,  1343.],\n",
       "        [    0.,     1.,  1319.],\n",
       "        [    0.,     1.,  1520.],\n",
       "        [    0.,     1.,   916.],\n",
       "        [    1.,     1.,  2197.],\n",
       "        [    1.,     0.,  2078.],\n",
       "        [    0.,     1.,  1452.],\n",
       "        [    0.,     0.,   688.],\n",
       "        [    0.,     1.,  1486.]]))"
      ]
     },
     "execution_count": 68,
     "metadata": {},
     "output_type": "execute_result"
    }
   ],
   "source": [
    "pred = model.predict(X_test[:10, :])\n",
    "# prediction is [legion_win_prob, hellbourne_win_prob, loser_concede_prob, estimated_game_time_in_secs]\n",
    "np.concatenate(pred, 1), Y_train[:10, :]"
   ]
  },
  {
   "cell_type": "code",
   "execution_count": 69,
   "metadata": {
    "ExecuteTime": {
     "end_time": "2017-02-08T13:30:24.230283",
     "start_time": "2017-02-08T13:30:24.224073"
    },
    "collapsed": false
   },
   "outputs": [
    {
     "data": {
      "text/plain": [
       "{'hellbourne': ['Glacius', 'Sand Wraith', 'Monarch', 'Ravenor', 'Adrenaline'],\n",
       " 'legion': ['Keeper of the Forest',\n",
       "  'Voodoo Jester',\n",
       "  'Artesia',\n",
       "  'Tarot',\n",
       "  'King Klout']}"
      ]
     },
     "execution_count": 69,
     "metadata": {},
     "output_type": "execute_result"
    }
   ],
   "source": [
    "humanize(X_test[0])"
   ]
  },
  {
   "cell_type": "markdown",
   "metadata": {},
   "source": [
    "# Inference"
   ]
  },
  {
   "cell_type": "code",
   "execution_count": 28,
   "metadata": {
    "ExecuteTime": {
     "end_time": "2017-02-08T12:09:20.082731",
     "start_time": "2017-02-08T12:09:20.066720"
    },
    "collapsed": false
   },
   "outputs": [],
   "source": [
    "def inputName():\n",
    "    name = input('Hero Name: ')\n",
    "    hero_id, hero_name = hero_name_to_id(name)\n",
    "    return hero_id, hero_name"
   ]
  },
  {
   "cell_type": "code",
   "execution_count": 92,
   "metadata": {
    "ExecuteTime": {
     "end_time": "2017-02-08T13:58:52.294185",
     "start_time": "2017-02-08T13:58:52.290827"
    },
    "collapsed": true
   },
   "outputs": [],
   "source": [
    "legion = []\n",
    "hellbourne = []\n",
    "hellbourne_bool = 0\n",
    "match = [{'legion': legion, 'hellbourne': hellbourne}]"
   ]
  },
  {
   "cell_type": "code",
   "execution_count": 107,
   "metadata": {
    "ExecuteTime": {
     "end_time": "2017-02-08T14:01:07.655741",
     "start_time": "2017-02-08T14:01:07.649675"
    },
    "collapsed": false
   },
   "outputs": [
    {
     "data": {
      "text/plain": [
       "'Hellbourne'"
      ]
     },
     "execution_count": 107,
     "metadata": {},
     "output_type": "execute_result"
    }
   ],
   "source": [
    "hellbourne_bool = not hellbourne_bool\n",
    "'Hellbourne' if hellbourne_bool else 'Legion'"
   ]
  },
  {
   "cell_type": "code",
   "execution_count": 89,
   "metadata": {
    "ExecuteTime": {
     "end_time": "2017-02-08T13:35:02.592819",
     "start_time": "2017-02-08T13:34:33.571736"
    },
    "collapsed": false
   },
   "outputs": [
    {
     "name": "stdout",
     "output_type": "stream",
     "text": [
      "Hero Name: ichor\n",
      "Hero: Ichor\n",
      "Team: {'hellbourne': ['Defiler', 'Zephyr', 'Demented Shaman', 'Deadlift', 'Skrap'], 'legion': ['Chronos', 'The Dark Lady', 'Magebane', 'Silhouette', 'Ichor']}\n",
      "Proba: [[    0.2       0.8       0.454  1567.079]]\n"
     ]
    }
   ],
   "source": [
    "hero_id, hero_name = inputName()\n",
    "if hero_id is not None:\n",
    "    print('Hero:', hero_name)\n",
    "    if hellbourne_bool:\n",
    "        hellbourne.append(hero_id)\n",
    "    else:\n",
    "        legion.append(hero_id)\n",
    "    x = vectorize_matches(match, include_Y=False)\n",
    "    print('Team:', humanize(x[0]))\n",
    "    proba = model.predict(x, verbose=0)\n",
    "    print('Proba:', np.concatenate(proba, axis=1))"
   ]
  },
  {
   "cell_type": "code",
   "execution_count": 111,
   "metadata": {
    "ExecuteTime": {
     "end_time": "2017-02-08T14:01:13.205016",
     "start_time": "2017-02-08T14:01:12.995468"
    },
    "collapsed": false
   },
   "outputs": [
    {
     "name": "stdout",
     "output_type": "stream",
     "text": [
      "(166, 0.47769687) Myrmidon\n",
      "Team: {'hellbourne': ['Demented Shaman', 'Hellbringer', 'Bombardier', 'Myrmidon', 'Ellonia'], 'legion': ['Nymphora', 'Andromeda', 'Pearl', 'Skrap', 'King Klout']}\n",
      "Proba: [[    0.522     0.478     0.762  1955.487]]\n"
     ]
    }
   ],
   "source": [
    "# selecting an optimal hero for the current team\n",
    "choice = optimal_hero_choice(model, match[0], hellbourne_side=hellbourne_bool, as_list=False, as_name=False, optimal=True)\n",
    "print(choice, hero_id_to_name(choice[0]))\n",
    "team_ids = hellbourne if hellbourne_bool else legion\n",
    "team_ids.append(choice[0])\n",
    "match = [{'legion': legion, 'hellbourne': hellbourne}]\n",
    "x = vectorize_matches(match, include_Y=False)\n",
    "print('Team:', humanize(x[0]))\n",
    "proba = model.predict(x, verbose=0)\n",
    "print('Proba:', np.concatenate(proba, axis=1))"
   ]
  }
 ],
 "metadata": {
  "hide_input": false,
  "kernelspec": {
   "display_name": "Python 3",
   "language": "python",
   "name": "python3"
  },
  "language_info": {
   "codemirror_mode": {
    "name": "ipython",
    "version": 3
   },
   "file_extension": ".py",
   "mimetype": "text/x-python",
   "name": "python",
   "nbconvert_exporter": "python",
   "pygments_lexer": "ipython3",
   "version": "3.4.5"
  },
  "notify_time": "5"
 },
 "nbformat": 4,
 "nbformat_minor": 0
}
